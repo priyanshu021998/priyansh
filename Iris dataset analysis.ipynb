{
 "cells": [
  {
   "cell_type": "markdown",
   "id": "2dbc57d4",
   "metadata": {},
   "source": [
    "# Tasks to do:\n",
    "Load the data in a pandas DataFrame\n",
    "\n",
    "Have a look at the 1st five rows\n",
    "\n",
    "Check if the dataset contains any null values\n",
    "\n",
    "Check the shape of the dataset"
   ]
  },
  {
   "cell_type": "code",
   "execution_count": 1,
   "id": "2c7e1768",
   "metadata": {},
   "outputs": [],
   "source": [
    "import pandas as pd\n",
    "import numpy as np"
   ]
  },
  {
   "cell_type": "code",
   "execution_count": 2,
   "id": "59610b12",
   "metadata": {},
   "outputs": [
    {
     "data": {
      "text/html": [
       "<div>\n",
       "<style scoped>\n",
       "    .dataframe tbody tr th:only-of-type {\n",
       "        vertical-align: middle;\n",
       "    }\n",
       "\n",
       "    .dataframe tbody tr th {\n",
       "        vertical-align: top;\n",
       "    }\n",
       "\n",
       "    .dataframe thead th {\n",
       "        text-align: right;\n",
       "    }\n",
       "</style>\n",
       "<table border=\"1\" class=\"dataframe\">\n",
       "  <thead>\n",
       "    <tr style=\"text-align: right;\">\n",
       "      <th></th>\n",
       "      <th>sepal length (cm)</th>\n",
       "      <th>sepal width (cm)</th>\n",
       "      <th>petal length (cm)</th>\n",
       "      <th>petal width (cm)</th>\n",
       "      <th>Class</th>\n",
       "    </tr>\n",
       "  </thead>\n",
       "  <tbody>\n",
       "    <tr>\n",
       "      <th>0</th>\n",
       "      <td>5.1</td>\n",
       "      <td>3.5</td>\n",
       "      <td>1.4</td>\n",
       "      <td>0.2</td>\n",
       "      <td>Iris-Setosa</td>\n",
       "    </tr>\n",
       "    <tr>\n",
       "      <th>1</th>\n",
       "      <td>4.9</td>\n",
       "      <td>3.0</td>\n",
       "      <td>1.4</td>\n",
       "      <td>0.2</td>\n",
       "      <td>Iris-Setosa</td>\n",
       "    </tr>\n",
       "    <tr>\n",
       "      <th>2</th>\n",
       "      <td>4.7</td>\n",
       "      <td>3.2</td>\n",
       "      <td>1.3</td>\n",
       "      <td>0.2</td>\n",
       "      <td>Iris-Setosa</td>\n",
       "    </tr>\n",
       "    <tr>\n",
       "      <th>3</th>\n",
       "      <td>4.6</td>\n",
       "      <td>3.1</td>\n",
       "      <td>1.5</td>\n",
       "      <td>0.2</td>\n",
       "      <td>Iris-Setosa</td>\n",
       "    </tr>\n",
       "    <tr>\n",
       "      <th>4</th>\n",
       "      <td>5.0</td>\n",
       "      <td>NaN</td>\n",
       "      <td>1.4</td>\n",
       "      <td>0.2</td>\n",
       "      <td>Iris-Setosa</td>\n",
       "    </tr>\n",
       "  </tbody>\n",
       "</table>\n",
       "</div>"
      ],
      "text/plain": [
       "   sepal length (cm)  sepal width (cm)  petal length (cm)  petal width (cm)  \\\n",
       "0                5.1               3.5                1.4               0.2   \n",
       "1                4.9               3.0                1.4               0.2   \n",
       "2                4.7               3.2                1.3               0.2   \n",
       "3                4.6               3.1                1.5               0.2   \n",
       "4                5.0               NaN                1.4               0.2   \n",
       "\n",
       "         Class  \n",
       "0  Iris-Setosa  \n",
       "1  Iris-Setosa  \n",
       "2  Iris-Setosa  \n",
       "3  Iris-Setosa  \n",
       "4  Iris-Setosa  "
      ]
     },
     "execution_count": 2,
     "metadata": {},
     "output_type": "execute_result"
    }
   ],
   "source": [
    "df = pd.read_csv('iris1.csv')\n",
    "df.head()"
   ]
  },
  {
   "cell_type": "code",
   "execution_count": 3,
   "id": "b4418c78",
   "metadata": {},
   "outputs": [
    {
     "data": {
      "text/plain": [
       "sepal length (cm)     0\n",
       "sepal width (cm)     30\n",
       "petal length (cm)    68\n",
       "petal width (cm)      0\n",
       "Class                 0\n",
       "dtype: int64"
      ]
     },
     "execution_count": 3,
     "metadata": {},
     "output_type": "execute_result"
    }
   ],
   "source": [
    "df.isnull().sum()"
   ]
  },
  {
   "cell_type": "code",
   "execution_count": 4,
   "id": "219a45b4",
   "metadata": {},
   "outputs": [
    {
     "data": {
      "text/plain": [
       "(150, 5)"
      ]
     },
     "execution_count": 4,
     "metadata": {},
     "output_type": "execute_result"
    }
   ],
   "source": [
    "df.shape"
   ]
  },
  {
   "cell_type": "markdown",
   "id": "f487c63f",
   "metadata": {},
   "source": [
    "# Tasks to do:\n",
    "Handle null values\n",
    "\n",
    "If a column has more than 40% null values, drop that column\n",
    "\n",
    "Else fill the null values with mean of that column"
   ]
  },
  {
   "cell_type": "code",
   "execution_count": 5,
   "id": "8faa7488",
   "metadata": {},
   "outputs": [],
   "source": [
    "for column in list(df.columns):\n",
    "    if df[column].isnull().sum()>(0.40*150):\n",
    "        df.drop(columns=column,axis=1,inplace=True)\n",
    "    elif df[column].isnull().sum():\n",
    "        df[column].replace(np.nan,df[column].mean(),inplace=True)\n",
    "    else:\n",
    "        continue\n",
    "        "
   ]
  },
  {
   "cell_type": "code",
   "execution_count": 6,
   "id": "52732003",
   "metadata": {},
   "outputs": [
    {
     "data": {
      "text/plain": [
       "['sepal length (cm)', 'sepal width (cm)', 'petal width (cm)', 'Class']"
      ]
     },
     "execution_count": 6,
     "metadata": {},
     "output_type": "execute_result"
    }
   ],
   "source": [
    "list(df.columns)"
   ]
  },
  {
   "cell_type": "code",
   "execution_count": 7,
   "id": "b5c9feb9",
   "metadata": {},
   "outputs": [
    {
     "data": {
      "text/html": [
       "<div>\n",
       "<style scoped>\n",
       "    .dataframe tbody tr th:only-of-type {\n",
       "        vertical-align: middle;\n",
       "    }\n",
       "\n",
       "    .dataframe tbody tr th {\n",
       "        vertical-align: top;\n",
       "    }\n",
       "\n",
       "    .dataframe thead th {\n",
       "        text-align: right;\n",
       "    }\n",
       "</style>\n",
       "<table border=\"1\" class=\"dataframe\">\n",
       "  <thead>\n",
       "    <tr style=\"text-align: right;\">\n",
       "      <th></th>\n",
       "      <th>sepal length (cm)</th>\n",
       "      <th>sepal width (cm)</th>\n",
       "      <th>petal width (cm)</th>\n",
       "      <th>Class</th>\n",
       "    </tr>\n",
       "  </thead>\n",
       "  <tbody>\n",
       "    <tr>\n",
       "      <th>0</th>\n",
       "      <td>5.1</td>\n",
       "      <td>3.5000</td>\n",
       "      <td>0.2</td>\n",
       "      <td>Iris-Setosa</td>\n",
       "    </tr>\n",
       "    <tr>\n",
       "      <th>1</th>\n",
       "      <td>4.9</td>\n",
       "      <td>3.0000</td>\n",
       "      <td>0.2</td>\n",
       "      <td>Iris-Setosa</td>\n",
       "    </tr>\n",
       "    <tr>\n",
       "      <th>2</th>\n",
       "      <td>4.7</td>\n",
       "      <td>3.2000</td>\n",
       "      <td>0.2</td>\n",
       "      <td>Iris-Setosa</td>\n",
       "    </tr>\n",
       "    <tr>\n",
       "      <th>3</th>\n",
       "      <td>4.6</td>\n",
       "      <td>3.1000</td>\n",
       "      <td>0.2</td>\n",
       "      <td>Iris-Setosa</td>\n",
       "    </tr>\n",
       "    <tr>\n",
       "      <th>4</th>\n",
       "      <td>5.0</td>\n",
       "      <td>3.0575</td>\n",
       "      <td>0.2</td>\n",
       "      <td>Iris-Setosa</td>\n",
       "    </tr>\n",
       "  </tbody>\n",
       "</table>\n",
       "</div>"
      ],
      "text/plain": [
       "   sepal length (cm)  sepal width (cm)  petal width (cm)        Class\n",
       "0                5.1            3.5000               0.2  Iris-Setosa\n",
       "1                4.9            3.0000               0.2  Iris-Setosa\n",
       "2                4.7            3.2000               0.2  Iris-Setosa\n",
       "3                4.6            3.1000               0.2  Iris-Setosa\n",
       "4                5.0            3.0575               0.2  Iris-Setosa"
      ]
     },
     "execution_count": 7,
     "metadata": {},
     "output_type": "execute_result"
    }
   ],
   "source": [
    "df.head()"
   ]
  },
  {
   "cell_type": "markdown",
   "id": "c1b47e65",
   "metadata": {},
   "source": [
    "# Tasks to do:\n",
    "Convert the categorical features to numerical values using Label Encoder from sklearn"
   ]
  },
  {
   "cell_type": "code",
   "execution_count": 8,
   "id": "ea3c15d7",
   "metadata": {},
   "outputs": [
    {
     "name": "stdout",
     "output_type": "stream",
     "text": [
      "   sepal length (cm)  sepal width (cm)  petal width (cm)  Class\n",
      "0                5.1            3.5000               0.2      0\n",
      "1                4.9            3.0000               0.2      0\n",
      "2                4.7            3.2000               0.2      0\n",
      "3                4.6            3.1000               0.2      0\n",
      "4                5.0            3.0575               0.2      0\n",
      "[0 1 2]\n"
     ]
    }
   ],
   "source": [
    "from sklearn.preprocessing import LabelEncoder\n",
    "le=LabelEncoder()\n",
    "df['Class']=le.fit_transform(df['Class'])\n",
    "print(df.head())\n",
    "print(df['Class'].unique())"
   ]
  },
  {
   "cell_type": "markdown",
   "id": "e66724be",
   "metadata": {},
   "source": [
    "# Tasks to do:\n",
    "Check for outlier in all the columns using boxplot.\n",
    "\n",
    "If there are outliers, clip them, lower limit will be Q1-1.5 IQR and upper limit will be\n",
    "\n",
    "Q3+1.5 IQR.\n",
    "\n",
    "Q1 = 1st Quartile (25%)\n",
    "\n",
    "Q3 = 3rd Quartile (75%)\n",
    "\n",
    "IQR = Inter-quartile range (Q3-Q1)"
   ]
  },
  {
   "cell_type": "code",
   "execution_count": 9,
   "id": "bc6e37a2",
   "metadata": {},
   "outputs": [
    {
     "data": {
      "image/png": "[encoded data removed]",
      "text/plain": [
       "<Figure size 720x1080 with 1 Axes>"
      ]
     },
     "metadata": {
      "needs_background": "light"
     },
     "output_type": "display_data"
    }
   ],
   "source": [
    "import matplotlib.pyplot as plt\n",
    "df.boxplot(figsize=(10,15))\n",
    "plt.show()"
   ]
  },
  {
   "cell_type": "markdown",
   "id": "e2628040",
   "metadata": {},
   "source": [
    "Sepal width contains outliers, so we will need to cap them."
   ]
  },
  {
   "cell_type": "code",
   "execution_count": 9,
   "id": "4f9a13a4",
   "metadata": {},
   "outputs": [],
   "source": [
    "q1 = df['sepal width (cm)'].quantile(.25)\n",
    "q3 = df['sepal width (cm)'].quantile(.75)\n",
    "IQR = q3 - q1\n",
    "df['sepal width (cm)'] = np.clip(df['sepal width (cm)'], q1 - 1.5 *IQR, q3 + 1.5 * IQR)"
   ]
  },
  {
   "cell_type": "code",
   "execution_count": 10,
   "id": "b028aebd",
   "metadata": {},
   "outputs": [
    {
     "data": {
      "image/png": "[encoded data removed]",
      "text/plain": [
       "<Figure size 576x864 with 1 Axes>"
      ]
     },
     "metadata": {
      "needs_background": "light"
     },
     "output_type": "display_data"
    }
   ],
   "source": [
    "df.boxplot(figsize=(8,12))\n",
    "plt.show()"
   ]
  },
  {
   "cell_type": "markdown",
   "id": "e3eaf5e1",
   "metadata": {},
   "source": [
    "Now we can see there are no outliers left"
   ]
  },
  {
   "cell_type": "markdown",
   "id": "518d8801",
   "metadata": {},
   "source": [
    "# Plot the correlation and tell which feature will help the most during prediction\n",
    "Calculate correlation\n",
    "\n",
    "Plot the correlation\n",
    "\n",
    "Compare the correlation"
   ]
  },
  {
   "cell_type": "code",
   "execution_count": 11,
   "id": "e63ea205",
   "metadata": {},
   "outputs": [
    {
     "data": {
      "text/plain": [
       "<AxesSubplot:>"
      ]
     },
     "execution_count": 11,
     "metadata": {},
     "output_type": "execute_result"
    },
    {
     "data": {
      "image/png": "[encoded data removed]",
      "text/plain": [
       "<Figure size 432x288 with 2 Axes>"
      ]
     },
     "metadata": {
      "needs_background": "light"
     },
     "output_type": "display_data"
    }
   ],
   "source": [
    "import seaborn as sns\n",
    "correlation = df.corr()\n",
    "sns.heatmap(correlation, annot = True)"
   ]
  },
  {
   "cell_type": "markdown",
   "id": "f096e0f5",
   "metadata": {},
   "source": [
    "Petal and sepal width are highly correlated with feature Class"
   ]
  },
  {
   "cell_type": "markdown",
   "id": "84d83535",
   "metadata": {},
   "source": [
    "# Tasks to do:\n",
    "Split the dataset using sklearn, with 20% for testing with random_state=7"
   ]
  },
  {
   "cell_type": "code",
   "execution_count": 12,
   "id": "dd94f5e9",
   "metadata": {},
   "outputs": [
    {
     "name": "stdout",
     "output_type": "stream",
     "text": [
      "(120, 3)\n",
      "(30, 3)\n",
      "(120,)\n",
      "(30,)\n"
     ]
    }
   ],
   "source": [
    "from sklearn.model_selection import train_test_split\n",
    "X= df.iloc[:,:-1]\n",
    "y= df.iloc[:,-1]\n",
    "X_train,X_test,y_train,y_test=train_test_split(X, y,test_size=0.20,\n",
    "random_state = 7)\n",
    "print(X_train.shape)\n",
    "print(X_test.shape)\n",
    "print(y_train.shape)\n",
    "print(y_test.shape)"
   ]
  },
  {
   "cell_type": "markdown",
   "id": "34fc5d05",
   "metadata": {},
   "source": [
    "# Tasks to do:\n",
    "Perform K-fold with K=10 with random_state = 7\n",
    "\n",
    "Perform K-Fold with commonly used classification algorithm\n",
    "\n",
    "Calculate the mean score of each iteration"
   ]
  },
  {
   "cell_type": "code",
   "execution_count": 13,
   "id": "dc76061e",
   "metadata": {},
   "outputs": [],
   "source": [
    " \n",
    "import warnings\n",
    "warnings.filterwarnings(\"ignore\")\n",
    "from sklearn.model_selection import cross_val_score,KFold\n",
    "#machine learning algorithms\n",
    "from sklearn.linear_model import LogisticRegression\n",
    "from sklearn.tree import DecisionTreeClassifier\n",
    "from sklearn.svm import SVC\n",
    "from sklearn.neighbors import KNeighborsClassifier\n",
    "from sklearn.naive_bayes import GaussianNB\n",
    "from sklearn.ensemble import RandomForestClassifier"
   ]
  },
  {
   "cell_type": "code",
   "execution_count": 14,
   "id": "f8754d38",
   "metadata": {},
   "outputs": [],
   "source": [
    "\n",
    "models=[]\n",
    "models.append(('lr:',LogisticRegression()))\n",
    "models.append(('decision tree:',DecisionTreeClassifier()))\n",
    "models.append(('svm:',SVC(gamma='auto')))\n",
    "models.append(('knn:',KNeighborsClassifier()))\n",
    "models.append(('naive bayes:',GaussianNB()))\n",
    "models.append(('Random Forest:',RandomForestClassifier()))\n"
   ]
  },
  {
   "cell_type": "code",
   "execution_count": 15,
   "id": "5dbac021",
   "metadata": {},
   "outputs": [
    {
     "data": {
      "text/plain": [
       "[('lr:', LogisticRegression()),\n",
       " ('decision tree:', DecisionTreeClassifier()),\n",
       " ('svm:', SVC(gamma='auto')),\n",
       " ('knn:', KNeighborsClassifier()),\n",
       " ('naive bayes:', GaussianNB()),\n",
       " ('Random Forest:', RandomForestClassifier())]"
      ]
     },
     "execution_count": 15,
     "metadata": {},
     "output_type": "execute_result"
    }
   ],
   "source": [
    "models"
   ]
  },
  {
   "cell_type": "code",
   "execution_count": 16,
   "id": "ff8472ce",
   "metadata": {},
   "outputs": [
    {
     "name": "stdout",
     "output_type": "stream",
     "text": [
      "lr: : acc: 0.9533333333333334(standard deviation: 0.06699917080747259)\n",
      "decision tree: : acc: 0.9333333333333333(standard deviation: 0.06666666666666665)\n",
      "svm: : acc: 0.9666666666666666(standard deviation: 0.04472135954999579)\n",
      "knn: : acc: 0.9533333333333334(standard deviation: 0.04268749491621898)\n",
      "naive bayes: : acc: 0.9466666666666667(standard deviation: 0.08326663997864532)\n",
      "Random Forest: : acc: 0.9400000000000001(standard deviation: 0.06960204339273698)\n"
     ]
    }
   ],
   "source": [
    "for name,model in models:\n",
    "    kfold=KFold(n_splits=10,random_state=7,shuffle=True)\n",
    "    cross_val_sc=cross_val_score(model,X,y,scoring='accuracy',cv=kfold)\n",
    "    print('{} : acc: {}(standard deviation: {})'.format(name,cross_val_sc.mean(),cross_val_sc.std()))"
   ]
  },
  {
   "cell_type": "markdown",
   "id": "d34bd6d5",
   "metadata": {},
   "source": [
    "# Tasks to do:\n",
    "Train a logistic regression model for prediction\n",
    "\n",
    "Also, predict the classes for test data"
   ]
  },
  {
   "cell_type": "code",
   "execution_count": 17,
   "id": "4d082470",
   "metadata": {},
   "outputs": [],
   "source": [
    "model= LogisticRegression()\n",
    "model.fit(X_train,y_train)\n",
    "y_pred=model.predict(X_test)"
   ]
  },
  {
   "cell_type": "markdown",
   "id": "cf470bb8",
   "metadata": {},
   "source": [
    "# Evaluate the model\n",
    "Print confusion matrix of the test data\n",
    "\n",
    "Also, Þnd the precision and recall using classiÞcation report\n",
    "\n",
    "Precision is the fraction of relevant instances among the retrieved instances\n",
    "\n",
    "While recall (also known as sensitivity) is the fraction of the total amount of relevant\n",
    "instances that were actually retrieved"
   ]
  },
  {
   "cell_type": "code",
   "execution_count": 18,
   "id": "1e6e9a42",
   "metadata": {},
   "outputs": [
    {
     "name": "stdout",
     "output_type": "stream",
     "text": [
      "[[7 0 0]\n",
      " [0 9 3]\n",
      " [0 2 9]]\n",
      "              precision    recall  f1-score   support\n",
      "\n",
      "           0       1.00      1.00      1.00         7\n",
      "           1       0.82      0.75      0.78        12\n",
      "           2       0.75      0.82      0.78        11\n",
      "\n",
      "    accuracy                           0.83        30\n",
      "   macro avg       0.86      0.86      0.86        30\n",
      "weighted avg       0.84      0.83      0.83        30\n",
      "\n"
     ]
    }
   ],
   "source": [
    "from sklearn.metrics import confusion_matrix,classification_report\n",
    "print(confusion_matrix(y_test,y_pred))\n",
    "print(classification_report(y_test,y_pred))"
   ]
  },
  {
   "cell_type": "code",
   "execution_count": null,
   "id": "a04ef740",
   "metadata": {},
   "outputs": [],
   "source": []
  },
  {
   "cell_type": "code",
   "execution_count": null,
   "id": "d530fe09",
   "metadata": {},
   "outputs": [],
   "source": []
  }
 ],
 "metadata": {
  "kernelspec": {
   "display_name": "Python 3 (ipykernel)",
   "language": "python",
   "name": "python3"
  },
  "language_info": {
   "codemirror_mode": {
    "name": "ipython",
    "version": 3
   },
   "file_extension": ".py",
   "mimetype": "text/x-python",
   "name": "python",
   "nbconvert_exporter": "python",
   "pygments_lexer": "ipython3",
   "version": "3.9.7"
  }
 },
 "nbformat": 4,
 "nbformat_minor": 5
}
