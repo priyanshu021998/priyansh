{
 "cells": [
  {
   "cell_type": "markdown",
   "id": "f3b2c9c9",
   "metadata": {},
   "source": [
    "# Scenario-3: Ergo Plastics\n",
    "Ergo plastics was found in 1973, one of the oldest and largest plastic manufacturing industry across the world. They have been developing in a new plastic materials which can withstand high pressure and temperature. They have created a 2 new type of materials and based on their elasticity and ductility the data has been collected. The data has been collected based on the material strength\n",
    "\n",
    "## Problem Statement:\n",
    "\n",
    "    They have collected the data in a csv format. Task is to classify a given piece of plastic based on its strength.\n",
    "\n",
    "### Dataset Description:\n",
    "\n",
    "    Attributes:\n",
    "      elasticity: real \n",
    "      ductility: real\n",
    "\n",
    "    Target Variable:\n",
    "      type: tensal, brittle\n",
    "      \n",
    "#### Tasks to be Performed:\n",
    "\n",
    "    In order to attain the above goal below tasks must be performed:\n",
    "      Read the dataset and process all the missing values. - Beginner\n",
    "      Split the data in training and testing set; then apply support vector classifier-Beginner\n",
    "      Find the accuracy of the model and plot the confusion matrix. Intermediate \n",
    "      Plot the visualization of the model to check the boundaries. Advanced\n",
    "\n",
    "##### Topics Covered:\n",
    "\n",
    "    Support Vector Machine\n",
    "\n"
   ]
  },
  {
   "cell_type": "markdown",
   "id": "042839b4",
   "metadata": {},
   "source": [
    "### Question-1: Read the dataset and process all the missing values. "
   ]
  },
  {
   "cell_type": "code",
   "execution_count": 1,
   "id": "962e50c0",
   "metadata": {},
   "outputs": [],
   "source": [
    "import pandas as pd\n",
    "import numpy as np"
   ]
  },
  {
   "cell_type": "code",
   "execution_count": 2,
   "id": "0f2e1ffe",
   "metadata": {},
   "outputs": [
    {
     "data": {
      "text/html": [
       "<div>\n",
       "<style scoped>\n",
       "    .dataframe tbody tr th:only-of-type {\n",
       "        vertical-align: middle;\n",
       "    }\n",
       "\n",
       "    .dataframe tbody tr th {\n",
       "        vertical-align: top;\n",
       "    }\n",
       "\n",
       "    .dataframe thead th {\n",
       "        text-align: right;\n",
       "    }\n",
       "</style>\n",
       "<table border=\"1\" class=\"dataframe\">\n",
       "  <thead>\n",
       "    <tr style=\"text-align: right;\">\n",
       "      <th></th>\n",
       "      <th>elasticity</th>\n",
       "      <th>ductility</th>\n",
       "      <th>type</th>\n",
       "    </tr>\n",
       "  </thead>\n",
       "  <tbody>\n",
       "    <tr>\n",
       "      <th>0</th>\n",
       "      <td>29.19393</td>\n",
       "      <td>8.443208</td>\n",
       "      <td>tensil</td>\n",
       "    </tr>\n",
       "    <tr>\n",
       "      <th>1</th>\n",
       "      <td>28.04907</td>\n",
       "      <td>7.237035</td>\n",
       "      <td>tensil</td>\n",
       "    </tr>\n",
       "    <tr>\n",
       "      <th>2</th>\n",
       "      <td>26.90421</td>\n",
       "      <td>7.719504</td>\n",
       "      <td>tensil</td>\n",
       "    </tr>\n",
       "    <tr>\n",
       "      <th>3</th>\n",
       "      <td>26.33178</td>\n",
       "      <td>7.478270</td>\n",
       "      <td>tensil</td>\n",
       "    </tr>\n",
       "    <tr>\n",
       "      <th>4</th>\n",
       "      <td>28.62150</td>\n",
       "      <td>8.684442</td>\n",
       "      <td>tensil</td>\n",
       "    </tr>\n",
       "  </tbody>\n",
       "</table>\n",
       "</div>"
      ],
      "text/plain": [
       "   elasticity  ductility    type\n",
       "0    29.19393   8.443208  tensil\n",
       "1    28.04907   7.237035  tensil\n",
       "2    26.90421   7.719504  tensil\n",
       "3    26.33178   7.478270  tensil\n",
       "4    28.62150   8.684442  tensil"
      ]
     },
     "execution_count": 2,
     "metadata": {},
     "output_type": "execute_result"
    }
   ],
   "source": [
    "data = pd.read_csv('plastics_type.csv')\n",
    "data.head()"
   ]
  },
  {
   "cell_type": "code",
   "execution_count": 3,
   "id": "a2fed1b0",
   "metadata": {},
   "outputs": [
    {
     "name": "stdout",
     "output_type": "stream",
     "text": [
      "<class 'pandas.core.frame.DataFrame'>\n",
      "RangeIndex: 155 entries, 0 to 154\n",
      "Data columns (total 3 columns):\n",
      " #   Column      Non-Null Count  Dtype  \n",
      "---  ------      --------------  -----  \n",
      " 0   elasticity  154 non-null    float64\n",
      " 1   ductility   152 non-null    float64\n",
      " 2   type        155 non-null    object \n",
      "dtypes: float64(2), object(1)\n",
      "memory usage: 3.8+ KB\n"
     ]
    }
   ],
   "source": [
    "data.info()"
   ]
  },
  {
   "cell_type": "code",
   "execution_count": 4,
   "id": "457d2422",
   "metadata": {},
   "outputs": [
    {
     "data": {
      "text/plain": [
       "elasticity    1\n",
       "ductility     3\n",
       "type          0\n",
       "dtype: int64"
      ]
     },
     "execution_count": 4,
     "metadata": {},
     "output_type": "execute_result"
    }
   ],
   "source": [
    "data.isnull().sum()"
   ]
  },
  {
   "cell_type": "code",
   "execution_count": 5,
   "id": "c7e3ea7b",
   "metadata": {},
   "outputs": [
    {
     "data": {
      "text/html": [
       "<div>\n",
       "<style scoped>\n",
       "    .dataframe tbody tr th:only-of-type {\n",
       "        vertical-align: middle;\n",
       "    }\n",
       "\n",
       "    .dataframe tbody tr th {\n",
       "        vertical-align: top;\n",
       "    }\n",
       "\n",
       "    .dataframe thead th {\n",
       "        text-align: right;\n",
       "    }\n",
       "</style>\n",
       "<table border=\"1\" class=\"dataframe\">\n",
       "  <thead>\n",
       "    <tr style=\"text-align: right;\">\n",
       "      <th></th>\n",
       "      <th>elasticity</th>\n",
       "      <th>ductility</th>\n",
       "      <th>type</th>\n",
       "    </tr>\n",
       "  </thead>\n",
       "  <tbody>\n",
       "    <tr>\n",
       "      <th>count</th>\n",
       "      <td>154.000000</td>\n",
       "      <td>152.000000</td>\n",
       "      <td>155</td>\n",
       "    </tr>\n",
       "    <tr>\n",
       "      <th>unique</th>\n",
       "      <td>NaN</td>\n",
       "      <td>NaN</td>\n",
       "      <td>2</td>\n",
       "    </tr>\n",
       "    <tr>\n",
       "      <th>top</th>\n",
       "      <td>NaN</td>\n",
       "      <td>NaN</td>\n",
       "      <td>brittle</td>\n",
       "    </tr>\n",
       "    <tr>\n",
       "      <th>freq</th>\n",
       "      <td>NaN</td>\n",
       "      <td>NaN</td>\n",
       "      <td>79</td>\n",
       "    </tr>\n",
       "    <tr>\n",
       "      <th>mean</th>\n",
       "      <td>33.427861</td>\n",
       "      <td>7.357653</td>\n",
       "      <td>NaN</td>\n",
       "    </tr>\n",
       "    <tr>\n",
       "      <th>std</th>\n",
       "      <td>4.702495</td>\n",
       "      <td>1.049866</td>\n",
       "      <td>NaN</td>\n",
       "    </tr>\n",
       "    <tr>\n",
       "      <th>min</th>\n",
       "      <td>24.614490</td>\n",
       "      <td>4.824690</td>\n",
       "      <td>NaN</td>\n",
       "    </tr>\n",
       "    <tr>\n",
       "      <th>25%</th>\n",
       "      <td>29.193930</td>\n",
       "      <td>6.754566</td>\n",
       "      <td>NaN</td>\n",
       "    </tr>\n",
       "    <tr>\n",
       "      <th>50%</th>\n",
       "      <td>33.200940</td>\n",
       "      <td>7.237035</td>\n",
       "      <td>NaN</td>\n",
       "    </tr>\n",
       "    <tr>\n",
       "      <th>75%</th>\n",
       "      <td>36.635520</td>\n",
       "      <td>7.960739</td>\n",
       "      <td>NaN</td>\n",
       "    </tr>\n",
       "    <tr>\n",
       "      <th>max</th>\n",
       "      <td>45.221970</td>\n",
       "      <td>10.614318</td>\n",
       "      <td>NaN</td>\n",
       "    </tr>\n",
       "  </tbody>\n",
       "</table>\n",
       "</div>"
      ],
      "text/plain": [
       "        elasticity   ductility     type\n",
       "count   154.000000  152.000000      155\n",
       "unique         NaN         NaN        2\n",
       "top            NaN         NaN  brittle\n",
       "freq           NaN         NaN       79\n",
       "mean     33.427861    7.357653      NaN\n",
       "std       4.702495    1.049866      NaN\n",
       "min      24.614490    4.824690      NaN\n",
       "25%      29.193930    6.754566      NaN\n",
       "50%      33.200940    7.237035      NaN\n",
       "75%      36.635520    7.960739      NaN\n",
       "max      45.221970   10.614318      NaN"
      ]
     },
     "execution_count": 5,
     "metadata": {},
     "output_type": "execute_result"
    }
   ],
   "source": [
    "data.describe(include='all')"
   ]
  },
  {
   "cell_type": "markdown",
   "id": "85a21fcd",
   "metadata": {},
   "source": [
    "###### Checking and processing Null values"
   ]
  },
  {
   "cell_type": "code",
   "execution_count": 6,
   "id": "984ed77c",
   "metadata": {},
   "outputs": [
    {
     "data": {
      "text/html": [
       "<div>\n",
       "<style scoped>\n",
       "    .dataframe tbody tr th:only-of-type {\n",
       "        vertical-align: middle;\n",
       "    }\n",
       "\n",
       "    .dataframe tbody tr th {\n",
       "        vertical-align: top;\n",
       "    }\n",
       "\n",
       "    .dataframe thead th {\n",
       "        text-align: right;\n",
       "    }\n",
       "</style>\n",
       "<table border=\"1\" class=\"dataframe\">\n",
       "  <thead>\n",
       "    <tr style=\"text-align: right;\">\n",
       "      <th></th>\n",
       "      <th>Col_name</th>\n",
       "      <th>Missing value?</th>\n",
       "      <th>Count_</th>\n",
       "      <th>Percentage</th>\n",
       "    </tr>\n",
       "  </thead>\n",
       "  <tbody>\n",
       "    <tr>\n",
       "      <th>1</th>\n",
       "      <td>ductility</td>\n",
       "      <td>True</td>\n",
       "      <td>3</td>\n",
       "      <td>0.019355</td>\n",
       "    </tr>\n",
       "    <tr>\n",
       "      <th>0</th>\n",
       "      <td>elasticity</td>\n",
       "      <td>True</td>\n",
       "      <td>1</td>\n",
       "      <td>0.006452</td>\n",
       "    </tr>\n",
       "    <tr>\n",
       "      <th>2</th>\n",
       "      <td>type</td>\n",
       "      <td>False</td>\n",
       "      <td>0</td>\n",
       "      <td>0.000000</td>\n",
       "    </tr>\n",
       "  </tbody>\n",
       "</table>\n",
       "</div>"
      ],
      "text/plain": [
       "     Col_name  Missing value?  Count_  Percentage\n",
       "1   ductility            True       3    0.019355\n",
       "0  elasticity            True       1    0.006452\n",
       "2        type           False       0    0.000000"
      ]
     },
     "execution_count": 6,
     "metadata": {},
     "output_type": "execute_result"
    }
   ],
   "source": [
    "miss=pd.DataFrame({'Col_name':data.columns, 'Missing value?':\n",
    "                            [any(data[x].isnull()) for x in data.columns],\n",
    "                  'Count_' :[sum(data[y].isnull()) for y in data.columns],\n",
    "                            'Percentage':[sum(data[y].isnull())/data.shape[0] for y in data.columns]})\n",
    "\n",
    "miss.sort_values(by='Count_', ascending=False)"
   ]
  },
  {
   "cell_type": "code",
   "execution_count": 7,
   "id": "9b1b6603",
   "metadata": {},
   "outputs": [
    {
     "name": "stdout",
     "output_type": "stream",
     "text": [
      "Total Missing Values: 4\n"
     ]
    }
   ],
   "source": [
    "print(\"Total Missing Values: %s\"%sum(miss.Count_))"
   ]
  },
  {
   "cell_type": "code",
   "execution_count": 8,
   "id": "ad71fbd6",
   "metadata": {},
   "outputs": [],
   "source": [
    "data.ductility=data.ductility.fillna(data.ductility.mean())\n",
    "data.elasticity=data.elasticity.fillna(data.elasticity.mean())"
   ]
  },
  {
   "cell_type": "code",
   "execution_count": 9,
   "id": "4ca409fb",
   "metadata": {},
   "outputs": [
    {
     "data": {
      "text/html": [
       "<div>\n",
       "<style scoped>\n",
       "    .dataframe tbody tr th:only-of-type {\n",
       "        vertical-align: middle;\n",
       "    }\n",
       "\n",
       "    .dataframe tbody tr th {\n",
       "        vertical-align: top;\n",
       "    }\n",
       "\n",
       "    .dataframe thead th {\n",
       "        text-align: right;\n",
       "    }\n",
       "</style>\n",
       "<table border=\"1\" class=\"dataframe\">\n",
       "  <thead>\n",
       "    <tr style=\"text-align: right;\">\n",
       "      <th></th>\n",
       "      <th>Col_name</th>\n",
       "      <th>Missing value?</th>\n",
       "      <th>Count_</th>\n",
       "      <th>Percentage</th>\n",
       "    </tr>\n",
       "  </thead>\n",
       "  <tbody>\n",
       "    <tr>\n",
       "      <th>0</th>\n",
       "      <td>elasticity</td>\n",
       "      <td>False</td>\n",
       "      <td>0</td>\n",
       "      <td>0.0</td>\n",
       "    </tr>\n",
       "    <tr>\n",
       "      <th>1</th>\n",
       "      <td>ductility</td>\n",
       "      <td>False</td>\n",
       "      <td>0</td>\n",
       "      <td>0.0</td>\n",
       "    </tr>\n",
       "    <tr>\n",
       "      <th>2</th>\n",
       "      <td>type</td>\n",
       "      <td>False</td>\n",
       "      <td>0</td>\n",
       "      <td>0.0</td>\n",
       "    </tr>\n",
       "  </tbody>\n",
       "</table>\n",
       "</div>"
      ],
      "text/plain": [
       "     Col_name  Missing value?  Count_  Percentage\n",
       "0  elasticity           False       0         0.0\n",
       "1   ductility           False       0         0.0\n",
       "2        type           False       0         0.0"
      ]
     },
     "execution_count": 9,
     "metadata": {},
     "output_type": "execute_result"
    }
   ],
   "source": [
    "miss=pd.DataFrame({'Col_name':data.columns, 'Missing value?':\n",
    "                            [any(data[x].isnull()) for x in data.columns],\n",
    "                  'Count_' :[sum(data[y].isnull()) for y in data.columns],\n",
    "                            'Percentage':[sum(data[y].isnull())/data.shape[0] for y in data.columns]})\n",
    "\n",
    "miss.sort_values(by='Count_', ascending=False)"
   ]
  },
  {
   "cell_type": "markdown",
   "id": "7f401158",
   "metadata": {},
   "source": [
    "### Question-2: Split the data in training and testing set; then apply support vector classifier."
   ]
  },
  {
   "cell_type": "code",
   "execution_count": 10,
   "id": "2dc0b002",
   "metadata": {},
   "outputs": [],
   "source": [
    "from sklearn.model_selection import train_test_split\n",
    "from sklearn.preprocessing import LabelEncoder \n",
    "from sklearn.svm import SVC"
   ]
  },
  {
   "cell_type": "code",
   "execution_count": 11,
   "id": "ee60361f",
   "metadata": {},
   "outputs": [],
   "source": [
    "lb=LabelEncoder()\n",
    "data.type=lb.fit_transform(data.type)"
   ]
  },
  {
   "cell_type": "code",
   "execution_count": 12,
   "id": "dc304228",
   "metadata": {},
   "outputs": [],
   "source": [
    "X=data.drop('type', axis=1)\n",
    "y=data.type \n",
    "X_train, X_test, y_train, y_test=train_test_split(X,y,random_state=0, test_size=0.3)"
   ]
  },
  {
   "cell_type": "code",
   "execution_count": 13,
   "id": "78757923",
   "metadata": {},
   "outputs": [
    {
     "data": {
      "text/html": [
       "<style>#sk-container-id-1 {color: black;background-color: white;}#sk-container-id-1 pre{padding: 0;}#sk-container-id-1 div.sk-toggleable {background-color: white;}#sk-container-id-1 label.sk-toggleable__label {cursor: pointer;display: block;width: 100%;margin-bottom: 0;padding: 0.3em;box-sizing: border-box;text-align: center;}#sk-container-id-1 label.sk-toggleable__label-arrow:before {content: \"▸\";float: left;margin-right: 0.25em;color: #696969;}#sk-container-id-1 label.sk-toggleable__label-arrow:hover:before {color: black;}#sk-container-id-1 div.sk-estimator:hover label.sk-toggleable__label-arrow:before {color: black;}#sk-container-id-1 div.sk-toggleable__content {max-height: 0;max-width: 0;overflow: hidden;text-align: left;background-color: #f0f8ff;}#sk-container-id-1 div.sk-toggleable__content pre {margin: 0.2em;color: black;border-radius: 0.25em;background-color: #f0f8ff;}#sk-container-id-1 input.sk-toggleable__control:checked~div.sk-toggleable__content {max-height: 200px;max-width: 100%;overflow: auto;}#sk-container-id-1 input.sk-toggleable__control:checked~label.sk-toggleable__label-arrow:before {content: \"▾\";}#sk-container-id-1 div.sk-estimator input.sk-toggleable__control:checked~label.sk-toggleable__label {background-color: #d4ebff;}#sk-container-id-1 div.sk-label input.sk-toggleable__control:checked~label.sk-toggleable__label {background-color: #d4ebff;}#sk-container-id-1 input.sk-hidden--visually {border: 0;clip: rect(1px 1px 1px 1px);clip: rect(1px, 1px, 1px, 1px);height: 1px;margin: -1px;overflow: hidden;padding: 0;position: absolute;width: 1px;}#sk-container-id-1 div.sk-estimator {font-family: monospace;background-color: #f0f8ff;border: 1px dotted black;border-radius: 0.25em;box-sizing: border-box;margin-bottom: 0.5em;}#sk-container-id-1 div.sk-estimator:hover {background-color: #d4ebff;}#sk-container-id-1 div.sk-parallel-item::after {content: \"\";width: 100%;border-bottom: 1px solid gray;flex-grow: 1;}#sk-container-id-1 div.sk-label:hover label.sk-toggleable__label {background-color: #d4ebff;}#sk-container-id-1 div.sk-serial::before {content: \"\";position: absolute;border-left: 1px solid gray;box-sizing: border-box;top: 0;bottom: 0;left: 50%;z-index: 0;}#sk-container-id-1 div.sk-serial {display: flex;flex-direction: column;align-items: center;background-color: white;padding-right: 0.2em;padding-left: 0.2em;position: relative;}#sk-container-id-1 div.sk-item {position: relative;z-index: 1;}#sk-container-id-1 div.sk-parallel {display: flex;align-items: stretch;justify-content: center;background-color: white;position: relative;}#sk-container-id-1 div.sk-item::before, #sk-container-id-1 div.sk-parallel-item::before {content: \"\";position: absolute;border-left: 1px solid gray;box-sizing: border-box;top: 0;bottom: 0;left: 50%;z-index: -1;}#sk-container-id-1 div.sk-parallel-item {display: flex;flex-direction: column;z-index: 1;position: relative;background-color: white;}#sk-container-id-1 div.sk-parallel-item:first-child::after {align-self: flex-end;width: 50%;}#sk-container-id-1 div.sk-parallel-item:last-child::after {align-self: flex-start;width: 50%;}#sk-container-id-1 div.sk-parallel-item:only-child::after {width: 0;}#sk-container-id-1 div.sk-dashed-wrapped {border: 1px dashed gray;margin: 0 0.4em 0.5em 0.4em;box-sizing: border-box;padding-bottom: 0.4em;background-color: white;}#sk-container-id-1 div.sk-label label {font-family: monospace;font-weight: bold;display: inline-block;line-height: 1.2em;}#sk-container-id-1 div.sk-label-container {text-align: center;}#sk-container-id-1 div.sk-container {/* jupyter's `normalize.less` sets `[hidden] { display: none; }` but bootstrap.min.css set `[hidden] { display: none !important; }` so we also need the `!important` here to be able to override the default hidden behavior on the sphinx rendered scikit-learn.org. See: https://github.com/scikit-learn/scikit-learn/issues/21755 */display: inline-block !important;position: relative;}#sk-container-id-1 div.sk-text-repr-fallback {display: none;}</style><div id=\"sk-container-id-1\" class=\"sk-top-container\"><div class=\"sk-text-repr-fallback\"><pre>SVC()</pre><b>In a Jupyter environment, please rerun this cell to show the HTML representation or trust the notebook. <br />On GitHub, the HTML representation is unable to render, please try loading this page with nbviewer.org.</b></div><div class=\"sk-container\" hidden><div class=\"sk-item\"><div class=\"sk-estimator sk-toggleable\"><input class=\"sk-toggleable__control sk-hidden--visually\" id=\"sk-estimator-id-1\" type=\"checkbox\" checked><label for=\"sk-estimator-id-1\" class=\"sk-toggleable__label sk-toggleable__label-arrow\">SVC</label><div class=\"sk-toggleable__content\"><pre>SVC()</pre></div></div></div></div></div>"
      ],
      "text/plain": [
       "SVC()"
      ]
     },
     "execution_count": 13,
     "metadata": {},
     "output_type": "execute_result"
    }
   ],
   "source": [
    "model_rbf=SVC(kernel='rbf')\n",
    "model_rbf.fit(X_train,y_train)"
   ]
  },
  {
   "cell_type": "code",
   "execution_count": 14,
   "id": "08e8db1e",
   "metadata": {},
   "outputs": [],
   "source": [
    "rbf_pred=model_rbf.predict(X_test)"
   ]
  },
  {
   "cell_type": "code",
   "execution_count": 15,
   "id": "e3986559",
   "metadata": {},
   "outputs": [
    {
     "data": {
      "text/html": [
       "<style>#sk-container-id-2 {color: black;background-color: white;}#sk-container-id-2 pre{padding: 0;}#sk-container-id-2 div.sk-toggleable {background-color: white;}#sk-container-id-2 label.sk-toggleable__label {cursor: pointer;display: block;width: 100%;margin-bottom: 0;padding: 0.3em;box-sizing: border-box;text-align: center;}#sk-container-id-2 label.sk-toggleable__label-arrow:before {content: \"▸\";float: left;margin-right: 0.25em;color: #696969;}#sk-container-id-2 label.sk-toggleable__label-arrow:hover:before {color: black;}#sk-container-id-2 div.sk-estimator:hover label.sk-toggleable__label-arrow:before {color: black;}#sk-container-id-2 div.sk-toggleable__content {max-height: 0;max-width: 0;overflow: hidden;text-align: left;background-color: #f0f8ff;}#sk-container-id-2 div.sk-toggleable__content pre {margin: 0.2em;color: black;border-radius: 0.25em;background-color: #f0f8ff;}#sk-container-id-2 input.sk-toggleable__control:checked~div.sk-toggleable__content {max-height: 200px;max-width: 100%;overflow: auto;}#sk-container-id-2 input.sk-toggleable__control:checked~label.sk-toggleable__label-arrow:before {content: \"▾\";}#sk-container-id-2 div.sk-estimator input.sk-toggleable__control:checked~label.sk-toggleable__label {background-color: #d4ebff;}#sk-container-id-2 div.sk-label input.sk-toggleable__control:checked~label.sk-toggleable__label {background-color: #d4ebff;}#sk-container-id-2 input.sk-hidden--visually {border: 0;clip: rect(1px 1px 1px 1px);clip: rect(1px, 1px, 1px, 1px);height: 1px;margin: -1px;overflow: hidden;padding: 0;position: absolute;width: 1px;}#sk-container-id-2 div.sk-estimator {font-family: monospace;background-color: #f0f8ff;border: 1px dotted black;border-radius: 0.25em;box-sizing: border-box;margin-bottom: 0.5em;}#sk-container-id-2 div.sk-estimator:hover {background-color: #d4ebff;}#sk-container-id-2 div.sk-parallel-item::after {content: \"\";width: 100%;border-bottom: 1px solid gray;flex-grow: 1;}#sk-container-id-2 div.sk-label:hover label.sk-toggleable__label {background-color: #d4ebff;}#sk-container-id-2 div.sk-serial::before {content: \"\";position: absolute;border-left: 1px solid gray;box-sizing: border-box;top: 0;bottom: 0;left: 50%;z-index: 0;}#sk-container-id-2 div.sk-serial {display: flex;flex-direction: column;align-items: center;background-color: white;padding-right: 0.2em;padding-left: 0.2em;position: relative;}#sk-container-id-2 div.sk-item {position: relative;z-index: 1;}#sk-container-id-2 div.sk-parallel {display: flex;align-items: stretch;justify-content: center;background-color: white;position: relative;}#sk-container-id-2 div.sk-item::before, #sk-container-id-2 div.sk-parallel-item::before {content: \"\";position: absolute;border-left: 1px solid gray;box-sizing: border-box;top: 0;bottom: 0;left: 50%;z-index: -1;}#sk-container-id-2 div.sk-parallel-item {display: flex;flex-direction: column;z-index: 1;position: relative;background-color: white;}#sk-container-id-2 div.sk-parallel-item:first-child::after {align-self: flex-end;width: 50%;}#sk-container-id-2 div.sk-parallel-item:last-child::after {align-self: flex-start;width: 50%;}#sk-container-id-2 div.sk-parallel-item:only-child::after {width: 0;}#sk-container-id-2 div.sk-dashed-wrapped {border: 1px dashed gray;margin: 0 0.4em 0.5em 0.4em;box-sizing: border-box;padding-bottom: 0.4em;background-color: white;}#sk-container-id-2 div.sk-label label {font-family: monospace;font-weight: bold;display: inline-block;line-height: 1.2em;}#sk-container-id-2 div.sk-label-container {text-align: center;}#sk-container-id-2 div.sk-container {/* jupyter's `normalize.less` sets `[hidden] { display: none; }` but bootstrap.min.css set `[hidden] { display: none !important; }` so we also need the `!important` here to be able to override the default hidden behavior on the sphinx rendered scikit-learn.org. See: https://github.com/scikit-learn/scikit-learn/issues/21755 */display: inline-block !important;position: relative;}#sk-container-id-2 div.sk-text-repr-fallback {display: none;}</style><div id=\"sk-container-id-2\" class=\"sk-top-container\"><div class=\"sk-text-repr-fallback\"><pre>SVC(kernel=&#x27;linear&#x27;)</pre><b>In a Jupyter environment, please rerun this cell to show the HTML representation or trust the notebook. <br />On GitHub, the HTML representation is unable to render, please try loading this page with nbviewer.org.</b></div><div class=\"sk-container\" hidden><div class=\"sk-item\"><div class=\"sk-estimator sk-toggleable\"><input class=\"sk-toggleable__control sk-hidden--visually\" id=\"sk-estimator-id-2\" type=\"checkbox\" checked><label for=\"sk-estimator-id-2\" class=\"sk-toggleable__label sk-toggleable__label-arrow\">SVC</label><div class=\"sk-toggleable__content\"><pre>SVC(kernel=&#x27;linear&#x27;)</pre></div></div></div></div></div>"
      ],
      "text/plain": [
       "SVC(kernel='linear')"
      ]
     },
     "execution_count": 15,
     "metadata": {},
     "output_type": "execute_result"
    }
   ],
   "source": [
    "model_linear=SVC(kernel='linear')\n",
    "model_linear.fit(X_train,y_train)"
   ]
  },
  {
   "cell_type": "code",
   "execution_count": 16,
   "id": "09ae2504",
   "metadata": {},
   "outputs": [],
   "source": [
    "Linear_pred=model_linear.predict(X_test)"
   ]
  },
  {
   "cell_type": "code",
   "execution_count": 17,
   "id": "16646168",
   "metadata": {},
   "outputs": [
    {
     "data": {
      "text/html": [
       "<style>#sk-container-id-3 {color: black;background-color: white;}#sk-container-id-3 pre{padding: 0;}#sk-container-id-3 div.sk-toggleable {background-color: white;}#sk-container-id-3 label.sk-toggleable__label {cursor: pointer;display: block;width: 100%;margin-bottom: 0;padding: 0.3em;box-sizing: border-box;text-align: center;}#sk-container-id-3 label.sk-toggleable__label-arrow:before {content: \"▸\";float: left;margin-right: 0.25em;color: #696969;}#sk-container-id-3 label.sk-toggleable__label-arrow:hover:before {color: black;}#sk-container-id-3 div.sk-estimator:hover label.sk-toggleable__label-arrow:before {color: black;}#sk-container-id-3 div.sk-toggleable__content {max-height: 0;max-width: 0;overflow: hidden;text-align: left;background-color: #f0f8ff;}#sk-container-id-3 div.sk-toggleable__content pre {margin: 0.2em;color: black;border-radius: 0.25em;background-color: #f0f8ff;}#sk-container-id-3 input.sk-toggleable__control:checked~div.sk-toggleable__content {max-height: 200px;max-width: 100%;overflow: auto;}#sk-container-id-3 input.sk-toggleable__control:checked~label.sk-toggleable__label-arrow:before {content: \"▾\";}#sk-container-id-3 div.sk-estimator input.sk-toggleable__control:checked~label.sk-toggleable__label {background-color: #d4ebff;}#sk-container-id-3 div.sk-label input.sk-toggleable__control:checked~label.sk-toggleable__label {background-color: #d4ebff;}#sk-container-id-3 input.sk-hidden--visually {border: 0;clip: rect(1px 1px 1px 1px);clip: rect(1px, 1px, 1px, 1px);height: 1px;margin: -1px;overflow: hidden;padding: 0;position: absolute;width: 1px;}#sk-container-id-3 div.sk-estimator {font-family: monospace;background-color: #f0f8ff;border: 1px dotted black;border-radius: 0.25em;box-sizing: border-box;margin-bottom: 0.5em;}#sk-container-id-3 div.sk-estimator:hover {background-color: #d4ebff;}#sk-container-id-3 div.sk-parallel-item::after {content: \"\";width: 100%;border-bottom: 1px solid gray;flex-grow: 1;}#sk-container-id-3 div.sk-label:hover label.sk-toggleable__label {background-color: #d4ebff;}#sk-container-id-3 div.sk-serial::before {content: \"\";position: absolute;border-left: 1px solid gray;box-sizing: border-box;top: 0;bottom: 0;left: 50%;z-index: 0;}#sk-container-id-3 div.sk-serial {display: flex;flex-direction: column;align-items: center;background-color: white;padding-right: 0.2em;padding-left: 0.2em;position: relative;}#sk-container-id-3 div.sk-item {position: relative;z-index: 1;}#sk-container-id-3 div.sk-parallel {display: flex;align-items: stretch;justify-content: center;background-color: white;position: relative;}#sk-container-id-3 div.sk-item::before, #sk-container-id-3 div.sk-parallel-item::before {content: \"\";position: absolute;border-left: 1px solid gray;box-sizing: border-box;top: 0;bottom: 0;left: 50%;z-index: -1;}#sk-container-id-3 div.sk-parallel-item {display: flex;flex-direction: column;z-index: 1;position: relative;background-color: white;}#sk-container-id-3 div.sk-parallel-item:first-child::after {align-self: flex-end;width: 50%;}#sk-container-id-3 div.sk-parallel-item:last-child::after {align-self: flex-start;width: 50%;}#sk-container-id-3 div.sk-parallel-item:only-child::after {width: 0;}#sk-container-id-3 div.sk-dashed-wrapped {border: 1px dashed gray;margin: 0 0.4em 0.5em 0.4em;box-sizing: border-box;padding-bottom: 0.4em;background-color: white;}#sk-container-id-3 div.sk-label label {font-family: monospace;font-weight: bold;display: inline-block;line-height: 1.2em;}#sk-container-id-3 div.sk-label-container {text-align: center;}#sk-container-id-3 div.sk-container {/* jupyter's `normalize.less` sets `[hidden] { display: none; }` but bootstrap.min.css set `[hidden] { display: none !important; }` so we also need the `!important` here to be able to override the default hidden behavior on the sphinx rendered scikit-learn.org. See: https://github.com/scikit-learn/scikit-learn/issues/21755 */display: inline-block !important;position: relative;}#sk-container-id-3 div.sk-text-repr-fallback {display: none;}</style><div id=\"sk-container-id-3\" class=\"sk-top-container\"><div class=\"sk-text-repr-fallback\"><pre>SVC(kernel=&#x27;sigmoid&#x27;)</pre><b>In a Jupyter environment, please rerun this cell to show the HTML representation or trust the notebook. <br />On GitHub, the HTML representation is unable to render, please try loading this page with nbviewer.org.</b></div><div class=\"sk-container\" hidden><div class=\"sk-item\"><div class=\"sk-estimator sk-toggleable\"><input class=\"sk-toggleable__control sk-hidden--visually\" id=\"sk-estimator-id-3\" type=\"checkbox\" checked><label for=\"sk-estimator-id-3\" class=\"sk-toggleable__label sk-toggleable__label-arrow\">SVC</label><div class=\"sk-toggleable__content\"><pre>SVC(kernel=&#x27;sigmoid&#x27;)</pre></div></div></div></div></div>"
      ],
      "text/plain": [
       "SVC(kernel='sigmoid')"
      ]
     },
     "execution_count": 17,
     "metadata": {},
     "output_type": "execute_result"
    }
   ],
   "source": [
    "model_sigmoid=SVC(kernel='sigmoid')\n",
    "model_sigmoid.fit(X_train,y_train)"
   ]
  },
  {
   "cell_type": "code",
   "execution_count": 18,
   "id": "a6b0ab3c",
   "metadata": {},
   "outputs": [],
   "source": [
    "Sigmoid_pred=model_sigmoid.predict(X_test)"
   ]
  },
  {
   "cell_type": "markdown",
   "id": "df23ff04",
   "metadata": {},
   "source": [
    "### Question-3: Find the accuracy of the model and plot the confusion matrix."
   ]
  },
  {
   "cell_type": "code",
   "execution_count": 19,
   "id": "54f42377",
   "metadata": {},
   "outputs": [],
   "source": [
    "from sklearn.metrics import confusion_matrix\n",
    "import matplotlib.pyplot as plt\n",
    "import seaborn as sns\n",
    "from sklearn.metrics import accuracy_score\n",
    "from matplotlib.colors import ListedColormap"
   ]
  },
  {
   "cell_type": "code",
   "execution_count": 20,
   "id": "0aae5ce3",
   "metadata": {},
   "outputs": [
    {
     "name": "stdout",
     "output_type": "stream",
     "text": [
      "The accuracy of the linear model is: 82.98\n",
      "The accuracy of the rbf model is: 82.98\n",
      "The accuracy of the sigmoid model is: 40.43\n"
     ]
    }
   ],
   "source": [
    "print(\"The accuracy of the linear model is:\",round(accuracy_score(y_test, Linear_pred)*100,2)) \n",
    "print(\"The accuracy of the rbf model is:\",round(accuracy_score(y_test, rbf_pred)*100,2)) \n",
    "print(\"The accuracy of the sigmoid model is:\", round(accuracy_score(y_test, Sigmoid_pred)*100,2))"
   ]
  },
  {
   "cell_type": "code",
   "execution_count": 21,
   "id": "cf5b2a90",
   "metadata": {},
   "outputs": [
    {
     "data": {
      "image/png": "[encoded data removed]",
      "text/plain": [
       "<Figure size 576x360 with 2 Axes>"
      ]
     },
     "metadata": {
      "needs_background": "light"
     },
     "output_type": "display_data"
    }
   ],
   "source": [
    "lcm=confusion_matrix(y_test, Linear_pred)\n",
    "lconf_matrix=pd.DataFrame(data=lcm, columns=['Predicted:0', 'Predicted:1'], index=['Actual:0', 'Actual:1']) \n",
    "plt.figure(figsize = (8,5)) \n",
    "sns.heatmap(lconf_matrix, annot=True, fmt='d',cmap='Greens') \n",
    "fm={'size' :18, 'color': '#1f8742', 'weight': 'heavy'} \n",
    "plt.title('Linear SVM Model', **fm) \n",
    "plt.show()"
   ]
  },
  {
   "cell_type": "code",
   "execution_count": 22,
   "id": "81922b86",
   "metadata": {},
   "outputs": [
    {
     "data": {
      "image/png": "[encoded data removed]",
      "text/plain": [
       "<Figure size 576x360 with 2 Axes>"
      ]
     },
     "metadata": {
      "needs_background": "light"
     },
     "output_type": "display_data"
    }
   ],
   "source": [
    "lcm=confusion_matrix(y_test,  rbf_pred)\n",
    "lconf_matrix=pd.DataFrame(data=lcm, columns=['Predicted:0', 'Predicted:1'], index=['Actual:0', 'Actual:1']) \n",
    "plt.figure(figsize = (8,5)) \n",
    "sns.heatmap(lconf_matrix, annot=True, fmt='d',cmap='Oranges') \n",
    "fm={'size' :18, 'color': '#E8751C', 'weight': 'heavy'} \n",
    "plt.title(' RBF SVM Model', **fm) \n",
    "plt.show()"
   ]
  },
  {
   "cell_type": "code",
   "execution_count": 23,
   "id": "27721bd3",
   "metadata": {},
   "outputs": [
    {
     "data": {
      "image/png": "[encoded data removed]",
      "text/plain": [
       "<Figure size 576x360 with 2 Axes>"
      ]
     },
     "metadata": {
      "needs_background": "light"
     },
     "output_type": "display_data"
    }
   ],
   "source": [
    "lcm=confusion_matrix(y_test,  Sigmoid_pred)\n",
    "lconf_matrix=pd.DataFrame(data=lcm, columns=['Predicted:0', 'Predicted:1'], index=['Actual:0', 'Actual:1']) \n",
    "plt.figure(figsize = (8,5)) \n",
    "sns.heatmap(lconf_matrix, annot=True, fmt='d',cmap='Spectral') \n",
    "fm={'size' :18, 'color': '#F15BB5', 'weight': 'heavy'} \n",
    "plt.title('Sigmoid SVM Model', **fm) \n",
    "plt.show()"
   ]
  },
  {
   "cell_type": "code",
   "execution_count": 24,
   "id": "3e7f63be",
   "metadata": {},
   "outputs": [],
   "source": [
    "from matplotlib.gridspec import GridSpec\n",
    "def plot_models(data):\n",
    "    sns.set_palette(sns.color_palette(\"rocket\")) \n",
    "    super_title={'size':18, 'color':'#c5283d','weight':'bold'}\n",
    "    sub_title={'size':12, 'color': '#e06777', 'weight':'bold'}\n",
    "    colors=np.array([[156, 137, 184], [239, 195, 238], [184, 190, 221],[231, 115, 171]]) \n",
    "    colors=colors/255 #Matplotlib RGB color range is from 0-1\n",
    "    data=pd.DataFrame(data)\n",
    "    fig=plt.figure(figsize=(10,7),constrained_layout=True)\n",
    "    gs=GridSpec(2, 2, figure=fig)\n",
    "    ax1 = fig.add_subplot(gs[0, 0])\n",
    "    ax1.barh(data.Model,data.Accuracy,color=colors) \n",
    "    ax1.tick_params(labelbottom=False, labelleft=True)\n",
    "    ax1.set_xlim(0,1)\n",
    "    ax1.set_title('Accuracy',**sub_title)\n",
    "    ax2 = fig.add_subplot(gs[0, 1])\n",
    "    ax2.barh(data.Model,data.Precision,color=colors) \n",
    "    ax2.tick_params(labelbottom=False, labelleft=False)\n",
    "    ax2.set_xlim(0,1)\n",
    "    ax2.set_title('Precision',**sub_title) \n",
    "    ax3 = fig.add_subplot(gs[1, 0])\n",
    "    ax3.barh(data.Model,data.Recall,color=colors)\n",
    "    ax3.tick_params(labelbottom=True, labelleft=True)\n",
    "    ax3.set_xlim(0,1)\n",
    "    ax3.set_title('Recall',**sub_title)\n",
    "    ax4 = fig.add_subplot(gs[1, 1])\n",
    "    ax4.barh(data.Model,data.F1_score,color=colors) \n",
    "    ax4.tick_params(labelbottom=False, labelleft=False)\n",
    "    ax4.set_xlim(0,1)\n",
    "    ax4.set_title('F1_Score',**sub_title)\n",
    "    fig.suptitle(\"Evaluation\",**super_title)\n",
    "    ax4.tick_params(labelbottom=True, labelleft=False)\n",
    "    plt.show()"
   ]
  },
  {
   "cell_type": "code",
   "execution_count": 25,
   "id": "58c5b92c",
   "metadata": {},
   "outputs": [],
   "source": [
    "# Let's see precision and recall values \n",
    "#Initializae the evaluation dictionary \n",
    "def initialize_evaluator():\n",
    "    return {'Model':[], 'Accuracy': [], 'Precision': [], 'Recall' : [], 'F1_score':[]}\n",
    "\n",
    "#Insert data in evaluation dictionary\n",
    "def insert_data(test, pred,model):\n",
    "    eval_data=initialize_evaluator()\n",
    "    eval_data['Accuracy'].append(accuracy_score(test, pred)) \n",
    "    eval_data['Precision'].append(precision_score (test, pred))\n",
    "    eval_data['Model'].append(model)\n",
    "    eval_data['Recall'].append(recall_score (test, pred)) \n",
    "    eval_data['F1_score'].append(f1_score(test, pred)) \n",
    "    return eval_data\n",
    "#Append data of one dictionary to another\n",
    "def append_data(data1, data2): \n",
    "    for i in data1.keys(): \n",
    "        data2[i].extend(data1[i]) \n",
    "    return data2"
   ]
  },
  {
   "cell_type": "code",
   "execution_count": 26,
   "id": "f6aa8bdd",
   "metadata": {},
   "outputs": [],
   "source": [
    "from sklearn.metrics import accuracy_score, confusion_matrix, precision_score, recall_score \n",
    "from sklearn.metrics import classification_report, f1_score "
   ]
  },
  {
   "cell_type": "code",
   "execution_count": 27,
   "id": "3ac43ad0",
   "metadata": {},
   "outputs": [],
   "source": [
    "eval_rbf=insert_data(y_test,rbf_pred,'RBG SVM')\n",
    "eval_lin=insert_data(y_test,Linear_pred, 'Linear SVM') \n",
    "eval_sig=insert_data(y_test,Sigmoid_pred, 'Sigmoid SVM') \n",
    "eval_svm=append_data(eval_rbf, eval_lin) \n",
    "eval_svm=append_data(eval_sig, eval_svm)"
   ]
  },
  {
   "cell_type": "code",
   "execution_count": 28,
   "id": "9c8890ff",
   "metadata": {},
   "outputs": [
    {
     "data": {
      "image/png": "[encoded data removed]",
      "text/plain": [
       "<Figure size 720x504 with 4 Axes>"
      ]
     },
     "metadata": {
      "needs_background": "light"
     },
     "output_type": "display_data"
    }
   ],
   "source": [
    "plot_models(eval_svm)"
   ]
  },
  {
   "cell_type": "markdown",
   "id": "b7b03662",
   "metadata": {},
   "source": [
    "From above graph we can conclude that Linear SVM model is best."
   ]
  },
  {
   "cell_type": "markdown",
   "id": "3e455d8e",
   "metadata": {},
   "source": [
    "### Question-4: Plot the visualization of the model to check the boundaries."
   ]
  },
  {
   "cell_type": "code",
   "execution_count": 29,
   "id": "1211ed66",
   "metadata": {},
   "outputs": [],
   "source": [
    "def plot(X,y,model,m):\n",
    "    p=['tensil','brittle']\n",
    "    X=np.array(X)\n",
    "    X1, X2 = np.meshgrid(np.arange(start = X[:, 0].min()-1, stop = X[:, 0].max()+ 1, step = 0.01),\n",
    "                         np.arange(start = X[:, 1].min()-1, stop = X[:, 1].max()+ 1, step = 0.01))\n",
    "    #To plot boundaries\n",
    "    #In general, the space is divided into decision boundaries\n",
    "    plt.figure(figsize=(8,6))\n",
    "    Z=model.decision_function(np.array([X1.ravel(), X2.ravel()]).T).reshape(X1.shape) \n",
    "    plt.contourf(X1, X2, model.predict(np.array([X1.ravel(), X2.ravel()]).T).reshape(X1.shape),\n",
    "                 alpha=0.25, cap=ListedColormap(('3889bce', '#004e64')))\n",
    "    plt.contour(X1, X2, Z, colors=['k', 'k', 'k'],linestyles=['-.','-','-.'],levels=[-.7,0,.7])\n",
    "    plt.xlim(X1.min(), X1.max())\n",
    "    plt.ylim(X2.min(), X2.max())\n",
    "    X=X.ravel() \n",
    "    clr=[]\n",
    "    for i in y:\n",
    "        if i==0:\n",
    "            clr.append('#ff499e')\n",
    "        else:\n",
    "            clr.append('#6f2dbd')\n",
    "    plt.scatter(X[::2], X[1::2],y,c=clr, cmap=ListedColormap(('#ffaabb', '#23887A'))) \n",
    "    fm={'size' :18, 'color': '#436B95',\"weight\":\"bold\"}\n",
    "    plt.title(m,**fm)\n",
    "    plt.xlabel('Elasticity')\n",
    "    plt.ylabel('Ductility') \n",
    "    plt.xticks([])\n",
    "    plt.yticks([])\n",
    "    return plt"
   ]
  },
  {
   "cell_type": "markdown",
   "id": "cbc08084",
   "metadata": {},
   "source": [
    "##### Linear"
   ]
  },
  {
   "cell_type": "code",
   "execution_count": 30,
   "id": "0634106c",
   "metadata": {},
   "outputs": [],
   "source": [
    "import warnings\n",
    "warnings. filterwarnings(\"ignore\")"
   ]
  },
  {
   "cell_type": "code",
   "execution_count": 31,
   "id": "d3b03232",
   "metadata": {},
   "outputs": [
    {
     "data": {
      "image/png": "[encoded data removed]",
      "text/plain": [
       "<Figure size 576x432 with 1 Axes>"
      ]
     },
     "metadata": {},
     "output_type": "display_data"
    }
   ],
   "source": [
    "plot(np.array(X),np.array(y),model_linear,'Linear SVM')\n",
    "plt.show()"
   ]
  },
  {
   "cell_type": "code",
   "execution_count": 36,
   "id": "cb4ed5b1",
   "metadata": {},
   "outputs": [
    {
     "data": {
      "text/plain": [
       "<AxesSubplot:>"
      ]
     },
     "execution_count": 36,
     "metadata": {},
     "output_type": "execute_result"
    },
    {
     "data": {
      "image/png": "[encoded data removed]",
      "text/plain": [
       "<Figure size 432x288 with 1 Axes>"
      ]
     },
     "metadata": {
      "needs_background": "light"
     },
     "output_type": "display_data"
    }
   ],
   "source": [
    "from mlxtend.plotting import plot_decision_regions\n",
    "#we can also use plot_decision_regions function\n",
    "plot_decision_regions(np.array(X),np.array(y),clf=model_linear)"
   ]
  },
  {
   "cell_type": "code",
   "execution_count": 34,
   "id": "9a5fd89d",
   "metadata": {},
   "outputs": [
    {
     "data": {
      "image/png": "[encoded data removed]",
      "text/plain": [
       "<Figure size 576x432 with 1 Axes>"
      ]
     },
     "metadata": {},
     "output_type": "display_data"
    }
   ],
   "source": [
    "plot(np.array(X),np.array(y),model_rbf,'RBF SVM')\n",
    "plt.show()"
   ]
  },
  {
   "cell_type": "code",
   "execution_count": 38,
   "id": "60cfbbe2",
   "metadata": {},
   "outputs": [
    {
     "data": {
      "text/plain": [
       "<AxesSubplot:>"
      ]
     },
     "execution_count": 38,
     "metadata": {},
     "output_type": "execute_result"
    },
    {
     "data": {
      "image/png": "[encoded data removed]",
      "text/plain": [
       "<Figure size 432x288 with 1 Axes>"
      ]
     },
     "metadata": {
      "needs_background": "light"
     },
     "output_type": "display_data"
    }
   ],
   "source": [
    "#we can also use plot_decision_regions function\n",
    "plot_decision_regions(np.array(X),np.array(y),clf=model_rbf)"
   ]
  },
  {
   "cell_type": "code",
   "execution_count": 41,
   "id": "307a8735",
   "metadata": {},
   "outputs": [
    {
     "data": {
      "image/png": "[encoded data removed]",
      "text/plain": [
       "<Figure size 576x432 with 1 Axes>"
      ]
     },
     "metadata": {},
     "output_type": "display_data"
    }
   ],
   "source": [
    "plot(np.array(X),np.array(y),model_sigmoid,'Sigmoid SVM')\n",
    "plt.show()"
   ]
  },
  {
   "cell_type": "code",
   "execution_count": 42,
   "id": "0d200c98",
   "metadata": {},
   "outputs": [
    {
     "data": {
      "text/plain": [
       "<AxesSubplot:>"
      ]
     },
     "execution_count": 42,
     "metadata": {},
     "output_type": "execute_result"
    },
    {
     "data": {
      "image/png": "[encoded data removed]",
      "text/plain": [
       "<Figure size 432x288 with 1 Axes>"
      ]
     },
     "metadata": {
      "needs_background": "light"
     },
     "output_type": "display_data"
    }
   ],
   "source": [
    "#we can also use plot_decision_regions function\n",
    "plot_decision_regions(np.array(X),np.array(y),clf=model_sigmoid)"
   ]
  },
  {
   "cell_type": "code",
   "execution_count": null,
   "id": "fe47e539",
   "metadata": {},
   "outputs": [],
   "source": []
  }
 ],
 "metadata": {
  "kernelspec": {
   "display_name": "Python 3 (ipykernel)",
   "language": "python",
   "name": "python3"
  },
  "language_info": {
   "codemirror_mode": {
    "name": "ipython",
    "version": 3
   },
   "file_extension": ".py",
   "mimetype": "text/x-python",
   "name": "python",
   "nbconvert_exporter": "python",
   "pygments_lexer": "ipython3",
   "version": "3.9.7"
  }
 },
 "nbformat": 4,
 "nbformat_minor": 5
}
