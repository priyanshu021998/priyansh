{
  "nbformat": 4,
  "nbformat_minor": 0,
  "metadata": {
    "colab": {
      "name": "M2_ In-Class Prac.ipynb",
      "provenance": []
    },
    "kernelspec": {
      "name": "python3",
      "display_name": "Python 3"
    }
  },
  "cells": [
    {
      "cell_type": "markdown",
      "metadata": {
        "id": "fnT3xCJLk1rq"
      },
      "source": [
        "**Download the data set from the dropbox**"
      ]
    },
    {
      "cell_type": "code",
      "metadata": {
        "id": "lS4uK-vZ5NCK",
        "colab": {
          "base_uri": "https://localhost:8080/"
        },
        "outputId": "5a9db787-6625-4001-e40a-1b9c01f589b1"
      },
      "source": [
        "!wget https://www.dropbox.com/s/5dq5t0ytlrgb4qg/salaries.csv"
      ],
      "execution_count": null,
      "outputs": [
        {
          "output_type": "stream",
          "text": [
            "--2020-11-06 10:10:27--  https://www.dropbox.com/s/5dq5t0ytlrgb4qg/salaries.csv\n",
            "Resolving www.dropbox.com (www.dropbox.com)... 162.125.3.1, 2620:100:6018:1::a27d:301\n",
            "Connecting to www.dropbox.com (www.dropbox.com)|162.125.3.1|:443... connected.\n",
            "HTTP request sent, awaiting response... 301 Moved Permanently\n",
            "Location: /s/raw/5dq5t0ytlrgb4qg/salaries.csv [following]\n",
            "--2020-11-06 10:10:28--  https://www.dropbox.com/s/raw/5dq5t0ytlrgb4qg/salaries.csv\n",
            "Reusing existing connection to www.dropbox.com:443.\n",
            "HTTP request sent, awaiting response... 302 Found\n",
            "Location: https://uc70b5bde4ad525b9ccb1552e52a.dl.dropboxusercontent.com/cd/0/inline/BCrsWEb0QIXLFqoElIzeIUf_dQCq1n8gDJiJML9PptWlvF16xi3xFtmxYEKPQJV4zkkke5CPeE4g-sv9PNwR8fwzYaUhEprFzkffZXBPpe9TH14NJ_6_2_MzaQ9CA4hrHII/file# [following]\n",
            "--2020-11-06 10:10:28--  https://uc70b5bde4ad525b9ccb1552e52a.dl.dropboxusercontent.com/cd/0/inline/BCrsWEb0QIXLFqoElIzeIUf_dQCq1n8gDJiJML9PptWlvF16xi3xFtmxYEKPQJV4zkkke5CPeE4g-sv9PNwR8fwzYaUhEprFzkffZXBPpe9TH14NJ_6_2_MzaQ9CA4hrHII/file\n",
            "Resolving uc70b5bde4ad525b9ccb1552e52a.dl.dropboxusercontent.com (uc70b5bde4ad525b9ccb1552e52a.dl.dropboxusercontent.com)... 162.125.5.15, 2620:100:6018:15::a27d:30f\n",
            "Connecting to uc70b5bde4ad525b9ccb1552e52a.dl.dropboxusercontent.com (uc70b5bde4ad525b9ccb1552e52a.dl.dropboxusercontent.com)|162.125.5.15|:443... connected.\n",
            "HTTP request sent, awaiting response... 200 OK\n",
            "Length: 638 [text/plain]\n",
            "Saving to: ‘salaries.csv.1’\n",
            "\n",
            "salaries.csv.1      100%[===================>]     638  --.-KB/s    in 0s      \n",
            "\n",
            "2020-11-06 10:10:28 (84.1 MB/s) - ‘salaries.csv.1’ saved [638/638]\n",
            "\n"
          ],
          "name": "stdout"
        }
      ]
    },
    {
      "cell_type": "code",
      "metadata": {
        "id": "qrcEpSl55Oa3"
      },
      "source": [
        "#Importing Libraries\n",
        "\n",
        "import pandas as pd\n",
        "import numpy as np "
      ],
      "execution_count": null,
      "outputs": []
    },
    {
      "cell_type": "code",
      "metadata": {
        "id": "nQ5-qAfHlE1W",
        "colab": {
          "base_uri": "https://localhost:8080/",
          "height": 197
        },
        "outputId": "71238768-83db-4d8e-8de3-fdfd4b578355"
      },
      "source": [
        "df = pd.read_csv('salaries.csv')\n",
        "df.head()"
      ],
      "execution_count": null,
      "outputs": [
        {
          "output_type": "execute_result",
          "data": {
            "text/html": [
              "<div>\n",
              "<style scoped>\n",
              "    .dataframe tbody tr th:only-of-type {\n",
              "        vertical-align: middle;\n",
              "    }\n",
              "\n",
              "    .dataframe tbody tr th {\n",
              "        vertical-align: top;\n",
              "    }\n",
              "\n",
              "    .dataframe thead th {\n",
              "        text-align: right;\n",
              "    }\n",
              "</style>\n",
              "<table border=\"1\" class=\"dataframe\">\n",
              "  <thead>\n",
              "    <tr style=\"text-align: right;\">\n",
              "      <th></th>\n",
              "      <th>company</th>\n",
              "      <th>job</th>\n",
              "      <th>degree</th>\n",
              "      <th>salary_more_then_100k</th>\n",
              "    </tr>\n",
              "  </thead>\n",
              "  <tbody>\n",
              "    <tr>\n",
              "      <th>0</th>\n",
              "      <td>google</td>\n",
              "      <td>sales executive</td>\n",
              "      <td>bachelors</td>\n",
              "      <td>0</td>\n",
              "    </tr>\n",
              "    <tr>\n",
              "      <th>1</th>\n",
              "      <td>google</td>\n",
              "      <td>sales executive</td>\n",
              "      <td>masters</td>\n",
              "      <td>0</td>\n",
              "    </tr>\n",
              "    <tr>\n",
              "      <th>2</th>\n",
              "      <td>google</td>\n",
              "      <td>business manager</td>\n",
              "      <td>bachelors</td>\n",
              "      <td>1</td>\n",
              "    </tr>\n",
              "    <tr>\n",
              "      <th>3</th>\n",
              "      <td>google</td>\n",
              "      <td>business manager</td>\n",
              "      <td>masters</td>\n",
              "      <td>1</td>\n",
              "    </tr>\n",
              "    <tr>\n",
              "      <th>4</th>\n",
              "      <td>google</td>\n",
              "      <td>computer programmer</td>\n",
              "      <td>bachelors</td>\n",
              "      <td>0</td>\n",
              "    </tr>\n",
              "  </tbody>\n",
              "</table>\n",
              "</div>"
            ],
            "text/plain": [
              "  company                  job     degree  salary_more_then_100k\n",
              "0  google      sales executive  bachelors                      0\n",
              "1  google      sales executive    masters                      0\n",
              "2  google     business manager  bachelors                      1\n",
              "3  google     business manager    masters                      1\n",
              "4  google  computer programmer  bachelors                      0"
            ]
          },
          "metadata": {
            "tags": []
          },
          "execution_count": 21
        }
      ]
    },
    {
      "cell_type": "code",
      "metadata": {
        "id": "w3a8ATuglhoj"
      },
      "source": [
        "X = df.drop('salary_more_then_100k', axis = 1)\n",
        "\n",
        "y = df['salary_more_then_100k']"
      ],
      "execution_count": null,
      "outputs": []
    },
    {
      "cell_type": "code",
      "metadata": {
        "id": "2loWen8glnQH"
      },
      "source": [
        "from sklearn.preprocessing import LabelEncoder\n",
        "le_company = LabelEncoder()\n",
        "le_job = LabelEncoder()\n",
        "le_degree = LabelEncoder()"
      ],
      "execution_count": null,
      "outputs": []
    },
    {
      "cell_type": "code",
      "metadata": {
        "id": "tApxYKwKlyAB"
      },
      "source": [
        "X['company_n'] = le_company.fit_transform(X['company'])\n",
        "X['job_n'] = le_job.fit_transform(X['job'])\n",
        "X['degree_n'] = le_degree.fit_transform(X['degree'])"
      ],
      "execution_count": null,
      "outputs": []
    },
    {
      "cell_type": "code",
      "metadata": {
        "id": "-HtVLbfOl6To"
      },
      "source": [
        "X = X.drop(['company','job','degree'],axis=1)"
      ],
      "execution_count": null,
      "outputs": []
    },
    {
      "cell_type": "markdown",
      "metadata": {
        "id": "HzLgxm1imFCn"
      },
      "source": [
        "**Build the Model**"
      ]
    },
    {
      "cell_type": "code",
      "metadata": {
        "id": "1u5rif_kl_Bu"
      },
      "source": [
        "from sklearn import tree\n",
        "model = tree.DecisionTreeClassifier()"
      ],
      "execution_count": null,
      "outputs": []
    },
    {
      "cell_type": "code",
      "metadata": {
        "id": "hTi6dl99CXAN",
        "colab": {
          "base_uri": "https://localhost:8080/"
        },
        "outputId": "0ee4318d-7bbe-4e46-fb96-2d980db4dae1"
      },
      "source": [
        "model.fit(X, y)"
      ],
      "execution_count": null,
      "outputs": [
        {
          "output_type": "execute_result",
          "data": {
            "text/plain": [
              "DecisionTreeClassifier(ccp_alpha=0.0, class_weight=None, criterion='gini',\n",
              "                       max_depth=None, max_features=None, max_leaf_nodes=None,\n",
              "                       min_impurity_decrease=0.0, min_impurity_split=None,\n",
              "                       min_samples_leaf=1, min_samples_split=2,\n",
              "                       min_weight_fraction_leaf=0.0, presort='deprecated',\n",
              "                       random_state=None, splitter='best')"
            ]
          },
          "metadata": {
            "tags": []
          },
          "execution_count": 27
        }
      ]
    },
    {
      "cell_type": "code",
      "metadata": {
        "id": "h06Cwb2RCaKQ",
        "colab": {
          "base_uri": "https://localhost:8080/"
        },
        "outputId": "a62c7e74-5279-4cef-c2d0-8c7096ae0d3d"
      },
      "source": [
        "model.score(X,y)"
      ],
      "execution_count": null,
      "outputs": [
        {
          "output_type": "execute_result",
          "data": {
            "text/plain": [
              "1.0"
            ]
          },
          "metadata": {
            "tags": []
          },
          "execution_count": 28
        }
      ]
    }
  ]
}