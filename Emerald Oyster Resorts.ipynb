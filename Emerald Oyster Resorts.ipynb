{
 "cells": [
  {
   "cell_type": "markdown",
   "id": "f94058d2",
   "metadata": {},
   "source": [
    "# Module-3: Classification II\n",
    "\n",
    "Classification is the process of classifying data in the diferent categories based on training data it was fitted. In this question bank, we will be applying Naive Bayes, SVM, and KNN to classify the data."
   ]
  },
  {
   "cell_type": "markdown",
   "id": "ef634dda",
   "metadata": {},
   "source": [
    "# Scenario 1: Emerald Oyster Resorts\n",
    "\n",
    "Emerald Oyster is proud to have been catering business and luxury travelers for more than 50 years. The worldwide offering of high-end hotel stays, customer services and with best in class chefs of every locus. The accommodations are designed in such a way that they reflect the surrounding environment with decor and hotel's location. Each hotel exhibits its own sense of style and individual properties with 24-hour customer service.\n",
    "## Problem Statement:\n",
    "\n",
    "Recent visitors do say, you should brace yourself for the high cost of meals at multiple restaurants located in the resort. In order to resolve this issue, the amenities can be remodeled with new menu and choices based on the economical condition of the customer. As the resorts cover a wide area only rich people go in depths of the resorts who buy the shuttle services; customers with low budget only explore the outer parts of the resorts. The task is to identify economic class of the customer based on the data collected so that the board can resolve this with proper remodeling.\n",
    "### Tasks to be performed\n",
    "\n",
    "In order to attain the above goal below tasks must be performed:\n",
    "\n",
    ". Read the dataset with no headers; Then put respective columns names and find the missing values in each column. - Beginner\n",
    "\n",
    "• Process any null values present in the data with the respective method - Beginner - Create two datasets one using dummy variable and one using LabelEncoder - Intermediate\n",
    "\n",
    "Split both the datasets into training and testing set and apply Gaussian Naive Bayes - Intermediate\n",
    "\n",
    "Evaluate both the model using confusion matrix. - Advanced\n",
    "\n",
    "Apply Bernoulli Naive Bayes on both the datasets and evaluate them again. - Advanced"
   ]
  },
  {
   "cell_type": "markdown",
   "id": "e75b3291",
   "metadata": {},
   "source": [
    "## Question-1: Read the dataset with no headers; Then put respective columns names and find the missing values in each column."
   ]
  },
  {
   "cell_type": "code",
   "execution_count": 2,
   "id": "3a1fa90b",
   "metadata": {},
   "outputs": [],
   "source": [
    "import pandas as pd \n",
    "import warnings\n",
    "warnings. filterwarnings(\"ignore\")"
   ]
  },
  {
   "cell_type": "code",
   "execution_count": 26,
   "id": "921a0e8b",
   "metadata": {},
   "outputs": [],
   "source": [
    "cols=['Age', 'Workaclass', 'Fnlugt', 'Education', 'Edu_num', 'Marital_Status', 'Occupation', 'Relationship','Race', 'Sex', 'Capital_gain', 'Capital_loss','HPW', 'Native_Country','Target']"
   ]
  },
  {
   "cell_type": "code",
   "execution_count": 27,
   "id": "9cfda91d",
   "metadata": {},
   "outputs": [],
   "source": [
    "data = pd.read_csv('guest_data.csv', header= None) \n",
    "data.columns=cols"
   ]
  },
  {
   "cell_type": "code",
   "execution_count": 28,
   "id": "93c8b2dd",
   "metadata": {},
   "outputs": [
    {
     "data": {
      "text/html": [
       "<div>\n",
       "<style scoped>\n",
       "    .dataframe tbody tr th:only-of-type {\n",
       "        vertical-align: middle;\n",
       "    }\n",
       "\n",
       "    .dataframe tbody tr th {\n",
       "        vertical-align: top;\n",
       "    }\n",
       "\n",
       "    .dataframe thead th {\n",
       "        text-align: right;\n",
       "    }\n",
       "</style>\n",
       "<table border=\"1\" class=\"dataframe\">\n",
       "  <thead>\n",
       "    <tr style=\"text-align: right;\">\n",
       "      <th></th>\n",
       "      <th>Age</th>\n",
       "      <th>Workaclass</th>\n",
       "      <th>Fnlugt</th>\n",
       "      <th>Education</th>\n",
       "      <th>Edu_num</th>\n",
       "      <th>Marital_Status</th>\n",
       "      <th>Occupation</th>\n",
       "      <th>Relationship</th>\n",
       "      <th>Race</th>\n",
       "      <th>Sex</th>\n",
       "      <th>Capital_gain</th>\n",
       "      <th>Capital_loss</th>\n",
       "      <th>HPW</th>\n",
       "      <th>Native_Country</th>\n",
       "      <th>Target</th>\n",
       "    </tr>\n",
       "  </thead>\n",
       "  <tbody>\n",
       "    <tr>\n",
       "      <th>0</th>\n",
       "      <td>25</td>\n",
       "      <td>Private</td>\n",
       "      <td>226802</td>\n",
       "      <td>11th</td>\n",
       "      <td>7</td>\n",
       "      <td>Never-married</td>\n",
       "      <td>Machine-op-inspct</td>\n",
       "      <td>Own-child</td>\n",
       "      <td>Black</td>\n",
       "      <td>Male</td>\n",
       "      <td>0</td>\n",
       "      <td>0</td>\n",
       "      <td>40</td>\n",
       "      <td>United-States</td>\n",
       "      <td>&lt;=50K</td>\n",
       "    </tr>\n",
       "    <tr>\n",
       "      <th>1</th>\n",
       "      <td>38</td>\n",
       "      <td>Private</td>\n",
       "      <td>89814</td>\n",
       "      <td>HS-grad</td>\n",
       "      <td>9</td>\n",
       "      <td>Married-civ-spouse</td>\n",
       "      <td>Farming-fishing</td>\n",
       "      <td>Husband</td>\n",
       "      <td>White</td>\n",
       "      <td>Male</td>\n",
       "      <td>0</td>\n",
       "      <td>0</td>\n",
       "      <td>50</td>\n",
       "      <td>United-States</td>\n",
       "      <td>&lt;=50K</td>\n",
       "    </tr>\n",
       "    <tr>\n",
       "      <th>2</th>\n",
       "      <td>28</td>\n",
       "      <td>Local-gov</td>\n",
       "      <td>336951</td>\n",
       "      <td>Assoc-acdm</td>\n",
       "      <td>12</td>\n",
       "      <td>Married-civ-spouse</td>\n",
       "      <td>Protective-serv</td>\n",
       "      <td>Husband</td>\n",
       "      <td>White</td>\n",
       "      <td>Male</td>\n",
       "      <td>0</td>\n",
       "      <td>0</td>\n",
       "      <td>40</td>\n",
       "      <td>United-States</td>\n",
       "      <td>&gt;50K</td>\n",
       "    </tr>\n",
       "    <tr>\n",
       "      <th>3</th>\n",
       "      <td>44</td>\n",
       "      <td>Private</td>\n",
       "      <td>160323</td>\n",
       "      <td>Some-college</td>\n",
       "      <td>10</td>\n",
       "      <td>Married-civ-spouse</td>\n",
       "      <td>Machine-op-inspct</td>\n",
       "      <td>Husband</td>\n",
       "      <td>Black</td>\n",
       "      <td>Male</td>\n",
       "      <td>7688</td>\n",
       "      <td>0</td>\n",
       "      <td>40</td>\n",
       "      <td>United-States</td>\n",
       "      <td>&gt;50K</td>\n",
       "    </tr>\n",
       "    <tr>\n",
       "      <th>4</th>\n",
       "      <td>18</td>\n",
       "      <td>NaN</td>\n",
       "      <td>103497</td>\n",
       "      <td>Some-college</td>\n",
       "      <td>10</td>\n",
       "      <td>Never-married</td>\n",
       "      <td>NaN</td>\n",
       "      <td>Own-child</td>\n",
       "      <td>White</td>\n",
       "      <td>Female</td>\n",
       "      <td>0</td>\n",
       "      <td>0</td>\n",
       "      <td>30</td>\n",
       "      <td>United-States</td>\n",
       "      <td>&lt;=50K</td>\n",
       "    </tr>\n",
       "  </tbody>\n",
       "</table>\n",
       "</div>"
      ],
      "text/plain": [
       "   Age Workaclass  Fnlugt     Education  Edu_num      Marital_Status  \\\n",
       "0   25    Private  226802          11th        7       Never-married   \n",
       "1   38    Private   89814       HS-grad        9  Married-civ-spouse   \n",
       "2   28  Local-gov  336951    Assoc-acdm       12  Married-civ-spouse   \n",
       "3   44    Private  160323  Some-college       10  Married-civ-spouse   \n",
       "4   18        NaN  103497  Some-college       10       Never-married   \n",
       "\n",
       "          Occupation Relationship   Race     Sex  Capital_gain  Capital_loss  \\\n",
       "0  Machine-op-inspct    Own-child  Black    Male             0             0   \n",
       "1    Farming-fishing      Husband  White    Male             0             0   \n",
       "2    Protective-serv      Husband  White    Male             0             0   \n",
       "3  Machine-op-inspct      Husband  Black    Male          7688             0   \n",
       "4                NaN    Own-child  White  Female             0             0   \n",
       "\n",
       "   HPW Native_Country Target  \n",
       "0   40  United-States  <=50K  \n",
       "1   50  United-States  <=50K  \n",
       "2   40  United-States   >50K  \n",
       "3   40  United-States   >50K  \n",
       "4   30  United-States  <=50K  "
      ]
     },
     "execution_count": 28,
     "metadata": {},
     "output_type": "execute_result"
    }
   ],
   "source": [
    "data.head()"
   ]
  },
  {
   "cell_type": "code",
   "execution_count": 31,
   "id": "d2467179",
   "metadata": {},
   "outputs": [
    {
     "name": "stdout",
     "output_type": "stream",
     "text": [
      "<class 'pandas.core.frame.DataFrame'>\n",
      "RangeIndex: 48842 entries, 0 to 48841\n",
      "Data columns (total 15 columns):\n",
      " #   Column          Non-Null Count  Dtype \n",
      "---  ------          --------------  ----- \n",
      " 0   Age             48842 non-null  int64 \n",
      " 1   Workaclass      46043 non-null  object\n",
      " 2   Fnlugt          48842 non-null  int64 \n",
      " 3   Education       48842 non-null  object\n",
      " 4   Edu_num         48842 non-null  int64 \n",
      " 5   Marital_Status  48842 non-null  object\n",
      " 6   Occupation      46033 non-null  object\n",
      " 7   Relationship    48842 non-null  object\n",
      " 8   Race            48842 non-null  object\n",
      " 9   Sex             48842 non-null  object\n",
      " 10  Capital_gain    48842 non-null  int64 \n",
      " 11  Capital_loss    48842 non-null  int64 \n",
      " 12  HPW             48842 non-null  int64 \n",
      " 13  Native_Country  47985 non-null  object\n",
      " 14  Target          48842 non-null  object\n",
      "dtypes: int64(6), object(9)\n",
      "memory usage: 5.6+ MB\n"
     ]
    }
   ],
   "source": [
    "data.info()"
   ]
  },
  {
   "cell_type": "code",
   "execution_count": 32,
   "id": "901ce879",
   "metadata": {},
   "outputs": [
    {
     "data": {
      "text/plain": [
       "(48842, 15)"
      ]
     },
     "execution_count": 32,
     "metadata": {},
     "output_type": "execute_result"
    }
   ],
   "source": [
    "data.shape"
   ]
  },
  {
   "cell_type": "code",
   "execution_count": 33,
   "id": "adcc87dd",
   "metadata": {},
   "outputs": [
    {
     "data": {
      "text/plain": [
       "Age                  0\n",
       "Workaclass        2799\n",
       "Fnlugt               0\n",
       "Education            0\n",
       "Edu_num              0\n",
       "Marital_Status       0\n",
       "Occupation        2809\n",
       "Relationship         0\n",
       "Race                 0\n",
       "Sex                  0\n",
       "Capital_gain         0\n",
       "Capital_loss         0\n",
       "HPW                  0\n",
       "Native_Country     857\n",
       "Target               0\n",
       "dtype: int64"
      ]
     },
     "execution_count": 33,
     "metadata": {},
     "output_type": "execute_result"
    }
   ],
   "source": [
    "data.isnull().sum()"
   ]
  },
  {
   "cell_type": "code",
   "execution_count": 34,
   "id": "8270e3a8",
   "metadata": {},
   "outputs": [
    {
     "data": {
      "image/png": "[encoded data removed]",
      "text/plain": [
       "<Figure size 720x72 with 1 Axes>"
      ]
     },
     "metadata": {
      "needs_background": "light"
     },
     "output_type": "display_data"
    }
   ],
   "source": [
    "#Target distribution.\n",
    "\n",
    "def target_distribution (data, col):\n",
    "    target_ratio=pd.DataFrame({'Counts':data[col].value_counts(),\n",
    "                               'Percentage' :data[col].value_counts()/len(data)})\n",
    "    import matplotlib.pyplot as plt\n",
    "    import seaborn as sns \n",
    "    plt.figure(figsize=(10,1))\n",
    "    plt.barh(target_ratio.index, target_ratio.Percentage,color='c')\n",
    "    plt.xlabel('Percentage')\n",
    "    plt.show()\n",
    "\n",
    "target_distribution(data, 'Target')"
   ]
  },
  {
   "cell_type": "markdown",
   "id": "ced457c3",
   "metadata": {},
   "source": [
    "## Question-2: Process any null values present in the data with the respective method."
   ]
  },
  {
   "cell_type": "code",
   "execution_count": 35,
   "id": "b0aa27f0",
   "metadata": {},
   "outputs": [
    {
     "data": {
      "text/html": [
       "<div>\n",
       "<style scoped>\n",
       "    .dataframe tbody tr th:only-of-type {\n",
       "        vertical-align: middle;\n",
       "    }\n",
       "\n",
       "    .dataframe tbody tr th {\n",
       "        vertical-align: top;\n",
       "    }\n",
       "\n",
       "    .dataframe thead th {\n",
       "        text-align: right;\n",
       "    }\n",
       "</style>\n",
       "<table border=\"1\" class=\"dataframe\">\n",
       "  <thead>\n",
       "    <tr style=\"text-align: right;\">\n",
       "      <th></th>\n",
       "      <th>Col_name</th>\n",
       "      <th>Missing value?</th>\n",
       "      <th>Count_</th>\n",
       "      <th>Percentage</th>\n",
       "    </tr>\n",
       "  </thead>\n",
       "  <tbody>\n",
       "    <tr>\n",
       "      <th>6</th>\n",
       "      <td>Occupation</td>\n",
       "      <td>True</td>\n",
       "      <td>2809</td>\n",
       "      <td>0.057512</td>\n",
       "    </tr>\n",
       "    <tr>\n",
       "      <th>1</th>\n",
       "      <td>Workaclass</td>\n",
       "      <td>True</td>\n",
       "      <td>2799</td>\n",
       "      <td>0.057307</td>\n",
       "    </tr>\n",
       "    <tr>\n",
       "      <th>13</th>\n",
       "      <td>Native_Country</td>\n",
       "      <td>True</td>\n",
       "      <td>857</td>\n",
       "      <td>0.017546</td>\n",
       "    </tr>\n",
       "    <tr>\n",
       "      <th>0</th>\n",
       "      <td>Age</td>\n",
       "      <td>False</td>\n",
       "      <td>0</td>\n",
       "      <td>0.000000</td>\n",
       "    </tr>\n",
       "    <tr>\n",
       "      <th>2</th>\n",
       "      <td>Fnlugt</td>\n",
       "      <td>False</td>\n",
       "      <td>0</td>\n",
       "      <td>0.000000</td>\n",
       "    </tr>\n",
       "    <tr>\n",
       "      <th>3</th>\n",
       "      <td>Education</td>\n",
       "      <td>False</td>\n",
       "      <td>0</td>\n",
       "      <td>0.000000</td>\n",
       "    </tr>\n",
       "    <tr>\n",
       "      <th>4</th>\n",
       "      <td>Edu_num</td>\n",
       "      <td>False</td>\n",
       "      <td>0</td>\n",
       "      <td>0.000000</td>\n",
       "    </tr>\n",
       "    <tr>\n",
       "      <th>5</th>\n",
       "      <td>Marital_Status</td>\n",
       "      <td>False</td>\n",
       "      <td>0</td>\n",
       "      <td>0.000000</td>\n",
       "    </tr>\n",
       "    <tr>\n",
       "      <th>7</th>\n",
       "      <td>Relationship</td>\n",
       "      <td>False</td>\n",
       "      <td>0</td>\n",
       "      <td>0.000000</td>\n",
       "    </tr>\n",
       "    <tr>\n",
       "      <th>8</th>\n",
       "      <td>Race</td>\n",
       "      <td>False</td>\n",
       "      <td>0</td>\n",
       "      <td>0.000000</td>\n",
       "    </tr>\n",
       "    <tr>\n",
       "      <th>9</th>\n",
       "      <td>Sex</td>\n",
       "      <td>False</td>\n",
       "      <td>0</td>\n",
       "      <td>0.000000</td>\n",
       "    </tr>\n",
       "    <tr>\n",
       "      <th>10</th>\n",
       "      <td>Capital_gain</td>\n",
       "      <td>False</td>\n",
       "      <td>0</td>\n",
       "      <td>0.000000</td>\n",
       "    </tr>\n",
       "    <tr>\n",
       "      <th>11</th>\n",
       "      <td>Capital_loss</td>\n",
       "      <td>False</td>\n",
       "      <td>0</td>\n",
       "      <td>0.000000</td>\n",
       "    </tr>\n",
       "    <tr>\n",
       "      <th>12</th>\n",
       "      <td>HPW</td>\n",
       "      <td>False</td>\n",
       "      <td>0</td>\n",
       "      <td>0.000000</td>\n",
       "    </tr>\n",
       "    <tr>\n",
       "      <th>14</th>\n",
       "      <td>Target</td>\n",
       "      <td>False</td>\n",
       "      <td>0</td>\n",
       "      <td>0.000000</td>\n",
       "    </tr>\n",
       "  </tbody>\n",
       "</table>\n",
       "</div>"
      ],
      "text/plain": [
       "          Col_name  Missing value?  Count_  Percentage\n",
       "6       Occupation            True    2809    0.057512\n",
       "1       Workaclass            True    2799    0.057307\n",
       "13  Native_Country            True     857    0.017546\n",
       "0              Age           False       0    0.000000\n",
       "2           Fnlugt           False       0    0.000000\n",
       "3        Education           False       0    0.000000\n",
       "4          Edu_num           False       0    0.000000\n",
       "5   Marital_Status           False       0    0.000000\n",
       "7     Relationship           False       0    0.000000\n",
       "8             Race           False       0    0.000000\n",
       "9              Sex           False       0    0.000000\n",
       "10    Capital_gain           False       0    0.000000\n",
       "11    Capital_loss           False       0    0.000000\n",
       "12             HPW           False       0    0.000000\n",
       "14          Target           False       0    0.000000"
      ]
     },
     "execution_count": 35,
     "metadata": {},
     "output_type": "execute_result"
    }
   ],
   "source": [
    "miss=pd.DataFrame({'Col_name':data.columns, 'Missing value?':\n",
    "                            [any(data[x].isnull()) for x in data.columns],\n",
    "                  'Count_' :[sum(data[y].isnull()) for y in data.columns],\n",
    "                            'Percentage':[sum(data[y].isnull())/data.shape[0] for y in data.columns]})\n",
    "\n",
    "miss.sort_values(by='Count_', ascending=False)"
   ]
  },
  {
   "cell_type": "code",
   "execution_count": 36,
   "id": "d6f59be4",
   "metadata": {},
   "outputs": [
    {
     "name": "stdout",
     "output_type": "stream",
     "text": [
      "Total Missing Values: 6465\n"
     ]
    }
   ],
   "source": [
    "print(\"Total Missing Values: %s\"%sum(miss.Count_))"
   ]
  },
  {
   "cell_type": "code",
   "execution_count": 37,
   "id": "23dca09c",
   "metadata": {},
   "outputs": [],
   "source": [
    "import numpy as np"
   ]
  },
  {
   "cell_type": "code",
   "execution_count": 38,
   "id": "826ab20f",
   "metadata": {},
   "outputs": [],
   "source": [
    "for i in miss [miss. Count_!=0]. Col_name:\n",
    "    temp=data[i].mode()\n",
    "    tes=data[i].isnull()\n",
    "    ind=tes[tes==True].index\n",
    "    quill=list(data[i])\n",
    "    for j in ind:\n",
    "        quill[j]=temp [0]\n",
    "    data[i]=quill"
   ]
  },
  {
   "cell_type": "code",
   "execution_count": 39,
   "id": "6107424a",
   "metadata": {},
   "outputs": [],
   "source": [
    "miss=pd.DataFrame({'Col_name':data.columns, 'Missing value?': [any(data[x].isnull()) for x in data.columns], \n",
    "                    'Count' : [sum(data[y].isnull()) for y in data.columns]})"
   ]
  },
  {
   "cell_type": "code",
   "execution_count": 40,
   "id": "32696e0e",
   "metadata": {},
   "outputs": [
    {
     "data": {
      "text/html": [
       "<div>\n",
       "<style scoped>\n",
       "    .dataframe tbody tr th:only-of-type {\n",
       "        vertical-align: middle;\n",
       "    }\n",
       "\n",
       "    .dataframe tbody tr th {\n",
       "        vertical-align: top;\n",
       "    }\n",
       "\n",
       "    .dataframe thead th {\n",
       "        text-align: right;\n",
       "    }\n",
       "</style>\n",
       "<table border=\"1\" class=\"dataframe\">\n",
       "  <thead>\n",
       "    <tr style=\"text-align: right;\">\n",
       "      <th></th>\n",
       "      <th>Col_name</th>\n",
       "      <th>Missing value?</th>\n",
       "      <th>Count</th>\n",
       "    </tr>\n",
       "  </thead>\n",
       "  <tbody>\n",
       "    <tr>\n",
       "      <th>0</th>\n",
       "      <td>Age</td>\n",
       "      <td>False</td>\n",
       "      <td>0</td>\n",
       "    </tr>\n",
       "    <tr>\n",
       "      <th>1</th>\n",
       "      <td>Workaclass</td>\n",
       "      <td>False</td>\n",
       "      <td>0</td>\n",
       "    </tr>\n",
       "    <tr>\n",
       "      <th>2</th>\n",
       "      <td>Fnlugt</td>\n",
       "      <td>False</td>\n",
       "      <td>0</td>\n",
       "    </tr>\n",
       "    <tr>\n",
       "      <th>3</th>\n",
       "      <td>Education</td>\n",
       "      <td>False</td>\n",
       "      <td>0</td>\n",
       "    </tr>\n",
       "    <tr>\n",
       "      <th>4</th>\n",
       "      <td>Edu_num</td>\n",
       "      <td>False</td>\n",
       "      <td>0</td>\n",
       "    </tr>\n",
       "    <tr>\n",
       "      <th>5</th>\n",
       "      <td>Marital_Status</td>\n",
       "      <td>False</td>\n",
       "      <td>0</td>\n",
       "    </tr>\n",
       "    <tr>\n",
       "      <th>6</th>\n",
       "      <td>Occupation</td>\n",
       "      <td>False</td>\n",
       "      <td>0</td>\n",
       "    </tr>\n",
       "    <tr>\n",
       "      <th>7</th>\n",
       "      <td>Relationship</td>\n",
       "      <td>False</td>\n",
       "      <td>0</td>\n",
       "    </tr>\n",
       "    <tr>\n",
       "      <th>8</th>\n",
       "      <td>Race</td>\n",
       "      <td>False</td>\n",
       "      <td>0</td>\n",
       "    </tr>\n",
       "    <tr>\n",
       "      <th>9</th>\n",
       "      <td>Sex</td>\n",
       "      <td>False</td>\n",
       "      <td>0</td>\n",
       "    </tr>\n",
       "    <tr>\n",
       "      <th>10</th>\n",
       "      <td>Capital_gain</td>\n",
       "      <td>False</td>\n",
       "      <td>0</td>\n",
       "    </tr>\n",
       "    <tr>\n",
       "      <th>11</th>\n",
       "      <td>Capital_loss</td>\n",
       "      <td>False</td>\n",
       "      <td>0</td>\n",
       "    </tr>\n",
       "    <tr>\n",
       "      <th>12</th>\n",
       "      <td>HPW</td>\n",
       "      <td>False</td>\n",
       "      <td>0</td>\n",
       "    </tr>\n",
       "    <tr>\n",
       "      <th>13</th>\n",
       "      <td>Native_Country</td>\n",
       "      <td>False</td>\n",
       "      <td>0</td>\n",
       "    </tr>\n",
       "    <tr>\n",
       "      <th>14</th>\n",
       "      <td>Target</td>\n",
       "      <td>False</td>\n",
       "      <td>0</td>\n",
       "    </tr>\n",
       "  </tbody>\n",
       "</table>\n",
       "</div>"
      ],
      "text/plain": [
       "          Col_name  Missing value?  Count\n",
       "0              Age           False      0\n",
       "1       Workaclass           False      0\n",
       "2           Fnlugt           False      0\n",
       "3        Education           False      0\n",
       "4          Edu_num           False      0\n",
       "5   Marital_Status           False      0\n",
       "6       Occupation           False      0\n",
       "7     Relationship           False      0\n",
       "8             Race           False      0\n",
       "9              Sex           False      0\n",
       "10    Capital_gain           False      0\n",
       "11    Capital_loss           False      0\n",
       "12             HPW           False      0\n",
       "13  Native_Country           False      0\n",
       "14          Target           False      0"
      ]
     },
     "execution_count": 40,
     "metadata": {},
     "output_type": "execute_result"
    }
   ],
   "source": [
    "miss.sort_values(by='Count', ascending=False)"
   ]
  },
  {
   "cell_type": "markdown",
   "id": "707cab0b",
   "metadata": {},
   "source": [
    "## Create two datasets one using dummy variable and one using labelencoder. "
   ]
  },
  {
   "cell_type": "code",
   "execution_count": 41,
   "id": "b40c8a3f",
   "metadata": {},
   "outputs": [],
   "source": [
    "dummy_data = data.copy()\n",
    "label_data = data.copy()"
   ]
  },
  {
   "cell_type": "code",
   "execution_count": 42,
   "id": "83ec3444",
   "metadata": {},
   "outputs": [
    {
     "data": {
      "text/html": [
       "<div>\n",
       "<style scoped>\n",
       "    .dataframe tbody tr th:only-of-type {\n",
       "        vertical-align: middle;\n",
       "    }\n",
       "\n",
       "    .dataframe tbody tr th {\n",
       "        vertical-align: top;\n",
       "    }\n",
       "\n",
       "    .dataframe thead th {\n",
       "        text-align: right;\n",
       "    }\n",
       "</style>\n",
       "<table border=\"1\" class=\"dataframe\">\n",
       "  <thead>\n",
       "    <tr style=\"text-align: right;\">\n",
       "      <th></th>\n",
       "      <th>Col_Name</th>\n",
       "      <th>Unique_Counts</th>\n",
       "      <th>Max_value</th>\n",
       "      <th>Min_value</th>\n",
       "    </tr>\n",
       "  </thead>\n",
       "  <tbody>\n",
       "    <tr>\n",
       "      <th>9</th>\n",
       "      <td>Sex</td>\n",
       "      <td>2</td>\n",
       "      <td>Male</td>\n",
       "      <td>Female</td>\n",
       "    </tr>\n",
       "    <tr>\n",
       "      <th>14</th>\n",
       "      <td>Target</td>\n",
       "      <td>2</td>\n",
       "      <td>&gt;50K</td>\n",
       "      <td>&lt;=50K</td>\n",
       "    </tr>\n",
       "    <tr>\n",
       "      <th>8</th>\n",
       "      <td>Race</td>\n",
       "      <td>5</td>\n",
       "      <td>White</td>\n",
       "      <td>Amer-Indian-Eskimo</td>\n",
       "    </tr>\n",
       "    <tr>\n",
       "      <th>7</th>\n",
       "      <td>Relationship</td>\n",
       "      <td>6</td>\n",
       "      <td>Wife</td>\n",
       "      <td>Husband</td>\n",
       "    </tr>\n",
       "    <tr>\n",
       "      <th>5</th>\n",
       "      <td>Marital_Status</td>\n",
       "      <td>7</td>\n",
       "      <td>Widowed</td>\n",
       "      <td>Divorced</td>\n",
       "    </tr>\n",
       "    <tr>\n",
       "      <th>1</th>\n",
       "      <td>Workaclass</td>\n",
       "      <td>8</td>\n",
       "      <td>Without-pay</td>\n",
       "      <td>Federal-gov</td>\n",
       "    </tr>\n",
       "    <tr>\n",
       "      <th>6</th>\n",
       "      <td>Occupation</td>\n",
       "      <td>14</td>\n",
       "      <td>Transport-moving</td>\n",
       "      <td>Adm-clerical</td>\n",
       "    </tr>\n",
       "    <tr>\n",
       "      <th>3</th>\n",
       "      <td>Education</td>\n",
       "      <td>16</td>\n",
       "      <td>Some-college</td>\n",
       "      <td>10th</td>\n",
       "    </tr>\n",
       "    <tr>\n",
       "      <th>4</th>\n",
       "      <td>Edu_num</td>\n",
       "      <td>16</td>\n",
       "      <td>16</td>\n",
       "      <td>1</td>\n",
       "    </tr>\n",
       "    <tr>\n",
       "      <th>13</th>\n",
       "      <td>Native_Country</td>\n",
       "      <td>41</td>\n",
       "      <td>Yugoslavia</td>\n",
       "      <td>Cambodia</td>\n",
       "    </tr>\n",
       "    <tr>\n",
       "      <th>0</th>\n",
       "      <td>Age</td>\n",
       "      <td>74</td>\n",
       "      <td>90</td>\n",
       "      <td>17</td>\n",
       "    </tr>\n",
       "    <tr>\n",
       "      <th>12</th>\n",
       "      <td>HPW</td>\n",
       "      <td>96</td>\n",
       "      <td>99</td>\n",
       "      <td>1</td>\n",
       "    </tr>\n",
       "    <tr>\n",
       "      <th>11</th>\n",
       "      <td>Capital_loss</td>\n",
       "      <td>99</td>\n",
       "      <td>4356</td>\n",
       "      <td>0</td>\n",
       "    </tr>\n",
       "    <tr>\n",
       "      <th>10</th>\n",
       "      <td>Capital_gain</td>\n",
       "      <td>123</td>\n",
       "      <td>99999</td>\n",
       "      <td>0</td>\n",
       "    </tr>\n",
       "    <tr>\n",
       "      <th>2</th>\n",
       "      <td>Fnlugt</td>\n",
       "      <td>28523</td>\n",
       "      <td>1490400</td>\n",
       "      <td>12285</td>\n",
       "    </tr>\n",
       "  </tbody>\n",
       "</table>\n",
       "</div>"
      ],
      "text/plain": [
       "          Col_Name  Unique_Counts         Max_value           Min_value\n",
       "9              Sex              2              Male              Female\n",
       "14          Target              2              >50K               <=50K\n",
       "8             Race              5             White  Amer-Indian-Eskimo\n",
       "7     Relationship              6              Wife             Husband\n",
       "5   Marital_Status              7           Widowed            Divorced\n",
       "1       Workaclass              8       Without-pay         Federal-gov\n",
       "6       Occupation             14  Transport-moving        Adm-clerical\n",
       "3        Education             16      Some-college                10th\n",
       "4          Edu_num             16                16                   1\n",
       "13  Native_Country             41        Yugoslavia            Cambodia\n",
       "0              Age             74                90                  17\n",
       "12             HPW             96                99                   1\n",
       "11    Capital_loss             99              4356                   0\n",
       "10    Capital_gain            123             99999                   0\n",
       "2           Fnlugt          28523           1490400               12285"
      ]
     },
     "execution_count": 42,
     "metadata": {},
     "output_type": "execute_result"
    }
   ],
   "source": [
    "#find unique returns a dataframe with every column name, number of unique values , minimum values, maximum values\n",
    "# and total unique values present altogether in the dataset.\n",
    "def findUnique(data):\n",
    "    unq=0\n",
    "    unq_data = {'Col_Name':[],'Unique_Counts':[],'Max_value':[], 'Min_value':[]}\n",
    "    for i in data.columns:\n",
    "        unq_data['Col_Name'].append(i)\n",
    "        unq_data['Unique_Counts'].append(len(dummy_data[i].unique()))\n",
    "        unq_data['Max_value'].append(dummy_data[i].max())\n",
    "        unq_data['Min_value'].append(dummy_data[i].min())\n",
    "        unq+=len(dummy_data[i].unique())\n",
    "    return pd.DataFrame(unq_data),unq\n",
    "u,ud=findUnique(dummy_data)\n",
    "u.sort_values(by='Unique_Counts')"
   ]
  },
  {
   "cell_type": "code",
   "execution_count": 43,
   "id": "6ac7ede2",
   "metadata": {},
   "outputs": [
    {
     "name": "stdout",
     "output_type": "stream",
     "text": [
      "Total Unique values: 29032\n"
     ]
    }
   ],
   "source": [
    "print('Total Unique values:',ud)"
   ]
  },
  {
   "cell_type": "code",
   "execution_count": 44,
   "id": "4e44cc70",
   "metadata": {},
   "outputs": [
    {
     "name": "stdout",
     "output_type": "stream",
     "text": [
      "Dataset shape: (48842, 15)\n"
     ]
    }
   ],
   "source": [
    "print('Dataset shape: %s'%str(dummy_data.shape))"
   ]
  },
  {
   "cell_type": "code",
   "execution_count": 45,
   "id": "f78768b0",
   "metadata": {},
   "outputs": [],
   "source": [
    "# since Age and Education are ordinal in nature we should use label encoder on these columns\n",
    "from sklearn.preprocessing import LabelEncoder\n",
    "lb=LabelEncoder()\n",
    "dummy_data.Age=lb.fit_transform(dummy_data.Age)\n",
    "dummy_data.Education=lb.fit_transform(dummy_data.Education)\n",
    "dummy_data.HPW=lb.fit_transform(dummy_data.HPW)\n"
   ]
  },
  {
   "cell_type": "code",
   "execution_count": 47,
   "id": "737977ab",
   "metadata": {},
   "outputs": [
    {
     "data": {
      "image/png": "[encoded data removed]",
      "text/plain": [
       "<Figure size 432x288 with 1 Axes>"
      ]
     },
     "metadata": {
      "needs_background": "light"
     },
     "output_type": "display_data"
    }
   ],
   "source": [
    "# All that left is 3 columns 'Capital_gain', 'Capital_loss',and 'FnLwgt'\n",
    "import matplotlib.pyplot as plt\n",
    "dummy_data.boxplot(column=['Capital_gain','Capital_loss','Fnlugt'])\n",
    "plt.show()"
   ]
  },
  {
   "cell_type": "code",
   "execution_count": 24,
   "id": "0a82bc5f",
   "metadata": {},
   "outputs": [],
   "source": [
    "from sklearn.preprocessing import MinMaxScaler"
   ]
  },
  {
   "cell_type": "code",
   "execution_count": 25,
   "id": "fcd74361",
   "metadata": {},
   "outputs": [],
   "source": [
    "scl=MinMaxScaler()"
   ]
  },
  {
   "cell_type": "code",
   "execution_count": 49,
   "id": "e73d63c0",
   "metadata": {},
   "outputs": [],
   "source": [
    "dummy_data.Capital_gain=scl.fit_transform(np.array(dummy_data.Capital_gain.values.astype(float)).reshape(1,-1))[0]\n",
    "dummy_data.Capital_loss=scl.fit_transform(np.array(dummy_data.Capital_loss.values.astype(float)).reshape(1,-1))[0]\n",
    "dummy_data.Fnlugt=scl.fit_transform(np.array(dummy_data.Fnlugt.values.astype(float)).reshape(1,-1))[0]\n"
   ]
  },
  {
   "cell_type": "code",
   "execution_count": 51,
   "id": "2e8852f1",
   "metadata": {},
   "outputs": [],
   "source": [
    "dols=['Workaclass', 'Edu_num',\n",
    "\n",
    "'Marital_Status', 'Occupation', 'Relationship', 'Race', 'Sex', 'Native_Country']\n",
    "\n",
    "dummy_data=pd.get_dummies(dummy_data,columns=dols)"
   ]
  },
  {
   "cell_type": "code",
   "execution_count": 52,
   "id": "48fff175",
   "metadata": {},
   "outputs": [
    {
     "name": "stdout",
     "output_type": "stream",
     "text": [
      "Dummy Dataset shape: (48842, 106)\n"
     ]
    }
   ],
   "source": [
    "print('Dummy Dataset shape: %s'%str(dummy_data.shape))"
   ]
  },
  {
   "cell_type": "code",
   "execution_count": 53,
   "id": "91dfa5ab",
   "metadata": {},
   "outputs": [
    {
     "data": {
      "text/html": [
       "<div>\n",
       "<style scoped>\n",
       "    .dataframe tbody tr th:only-of-type {\n",
       "        vertical-align: middle;\n",
       "    }\n",
       "\n",
       "    .dataframe tbody tr th {\n",
       "        vertical-align: top;\n",
       "    }\n",
       "\n",
       "    .dataframe thead th {\n",
       "        text-align: right;\n",
       "    }\n",
       "</style>\n",
       "<table border=\"1\" class=\"dataframe\">\n",
       "  <thead>\n",
       "    <tr style=\"text-align: right;\">\n",
       "      <th></th>\n",
       "      <th>Age</th>\n",
       "      <th>Fnlugt</th>\n",
       "      <th>Education</th>\n",
       "      <th>Capital_gain</th>\n",
       "      <th>Capital_loss</th>\n",
       "      <th>HPW</th>\n",
       "      <th>Target</th>\n",
       "      <th>Workaclass_Federal-gov</th>\n",
       "      <th>Workaclass_Local-gov</th>\n",
       "      <th>Workaclass_Never-worked</th>\n",
       "      <th>...</th>\n",
       "      <th>Native_Country_Portugal</th>\n",
       "      <th>Native_Country_Puerto-Rico</th>\n",
       "      <th>Native_Country_Scotland</th>\n",
       "      <th>Native_Country_South</th>\n",
       "      <th>Native_Country_Taiwan</th>\n",
       "      <th>Native_Country_Thailand</th>\n",
       "      <th>Native_Country_Trinadad&amp;Tobago</th>\n",
       "      <th>Native_Country_United-States</th>\n",
       "      <th>Native_Country_Vietnam</th>\n",
       "      <th>Native_Country_Yugoslavia</th>\n",
       "    </tr>\n",
       "  </thead>\n",
       "  <tbody>\n",
       "    <tr>\n",
       "      <th>0</th>\n",
       "      <td>8</td>\n",
       "      <td>0.0</td>\n",
       "      <td>1</td>\n",
       "      <td>0.0</td>\n",
       "      <td>0.0</td>\n",
       "      <td>39</td>\n",
       "      <td>&lt;=50K</td>\n",
       "      <td>0</td>\n",
       "      <td>0</td>\n",
       "      <td>0</td>\n",
       "      <td>...</td>\n",
       "      <td>0</td>\n",
       "      <td>0</td>\n",
       "      <td>0</td>\n",
       "      <td>0</td>\n",
       "      <td>0</td>\n",
       "      <td>0</td>\n",
       "      <td>0</td>\n",
       "      <td>1</td>\n",
       "      <td>0</td>\n",
       "      <td>0</td>\n",
       "    </tr>\n",
       "    <tr>\n",
       "      <th>1</th>\n",
       "      <td>21</td>\n",
       "      <td>0.0</td>\n",
       "      <td>11</td>\n",
       "      <td>0.0</td>\n",
       "      <td>0.0</td>\n",
       "      <td>49</td>\n",
       "      <td>&lt;=50K</td>\n",
       "      <td>0</td>\n",
       "      <td>0</td>\n",
       "      <td>0</td>\n",
       "      <td>...</td>\n",
       "      <td>0</td>\n",
       "      <td>0</td>\n",
       "      <td>0</td>\n",
       "      <td>0</td>\n",
       "      <td>0</td>\n",
       "      <td>0</td>\n",
       "      <td>0</td>\n",
       "      <td>1</td>\n",
       "      <td>0</td>\n",
       "      <td>0</td>\n",
       "    </tr>\n",
       "    <tr>\n",
       "      <th>2</th>\n",
       "      <td>11</td>\n",
       "      <td>0.0</td>\n",
       "      <td>7</td>\n",
       "      <td>0.0</td>\n",
       "      <td>0.0</td>\n",
       "      <td>39</td>\n",
       "      <td>&gt;50K</td>\n",
       "      <td>0</td>\n",
       "      <td>1</td>\n",
       "      <td>0</td>\n",
       "      <td>...</td>\n",
       "      <td>0</td>\n",
       "      <td>0</td>\n",
       "      <td>0</td>\n",
       "      <td>0</td>\n",
       "      <td>0</td>\n",
       "      <td>0</td>\n",
       "      <td>0</td>\n",
       "      <td>1</td>\n",
       "      <td>0</td>\n",
       "      <td>0</td>\n",
       "    </tr>\n",
       "    <tr>\n",
       "      <th>3</th>\n",
       "      <td>27</td>\n",
       "      <td>0.0</td>\n",
       "      <td>15</td>\n",
       "      <td>0.0</td>\n",
       "      <td>0.0</td>\n",
       "      <td>39</td>\n",
       "      <td>&gt;50K</td>\n",
       "      <td>0</td>\n",
       "      <td>0</td>\n",
       "      <td>0</td>\n",
       "      <td>...</td>\n",
       "      <td>0</td>\n",
       "      <td>0</td>\n",
       "      <td>0</td>\n",
       "      <td>0</td>\n",
       "      <td>0</td>\n",
       "      <td>0</td>\n",
       "      <td>0</td>\n",
       "      <td>1</td>\n",
       "      <td>0</td>\n",
       "      <td>0</td>\n",
       "    </tr>\n",
       "    <tr>\n",
       "      <th>4</th>\n",
       "      <td>1</td>\n",
       "      <td>0.0</td>\n",
       "      <td>15</td>\n",
       "      <td>0.0</td>\n",
       "      <td>0.0</td>\n",
       "      <td>29</td>\n",
       "      <td>&lt;=50K</td>\n",
       "      <td>0</td>\n",
       "      <td>0</td>\n",
       "      <td>0</td>\n",
       "      <td>...</td>\n",
       "      <td>0</td>\n",
       "      <td>0</td>\n",
       "      <td>0</td>\n",
       "      <td>0</td>\n",
       "      <td>0</td>\n",
       "      <td>0</td>\n",
       "      <td>0</td>\n",
       "      <td>1</td>\n",
       "      <td>0</td>\n",
       "      <td>0</td>\n",
       "    </tr>\n",
       "  </tbody>\n",
       "</table>\n",
       "<p>5 rows × 106 columns</p>\n",
       "</div>"
      ],
      "text/plain": [
       "   Age  Fnlugt  Education  Capital_gain  Capital_loss  HPW Target  \\\n",
       "0    8     0.0          1           0.0           0.0   39  <=50K   \n",
       "1   21     0.0         11           0.0           0.0   49  <=50K   \n",
       "2   11     0.0          7           0.0           0.0   39   >50K   \n",
       "3   27     0.0         15           0.0           0.0   39   >50K   \n",
       "4    1     0.0         15           0.0           0.0   29  <=50K   \n",
       "\n",
       "   Workaclass_Federal-gov  Workaclass_Local-gov  Workaclass_Never-worked  ...  \\\n",
       "0                       0                     0                        0  ...   \n",
       "1                       0                     0                        0  ...   \n",
       "2                       0                     1                        0  ...   \n",
       "3                       0                     0                        0  ...   \n",
       "4                       0                     0                        0  ...   \n",
       "\n",
       "   Native_Country_Portugal  Native_Country_Puerto-Rico  \\\n",
       "0                        0                           0   \n",
       "1                        0                           0   \n",
       "2                        0                           0   \n",
       "3                        0                           0   \n",
       "4                        0                           0   \n",
       "\n",
       "   Native_Country_Scotland  Native_Country_South  Native_Country_Taiwan  \\\n",
       "0                        0                     0                      0   \n",
       "1                        0                     0                      0   \n",
       "2                        0                     0                      0   \n",
       "3                        0                     0                      0   \n",
       "4                        0                     0                      0   \n",
       "\n",
       "   Native_Country_Thailand  Native_Country_Trinadad&Tobago  \\\n",
       "0                        0                               0   \n",
       "1                        0                               0   \n",
       "2                        0                               0   \n",
       "3                        0                               0   \n",
       "4                        0                               0   \n",
       "\n",
       "   Native_Country_United-States  Native_Country_Vietnam  \\\n",
       "0                             1                       0   \n",
       "1                             1                       0   \n",
       "2                             1                       0   \n",
       "3                             1                       0   \n",
       "4                             1                       0   \n",
       "\n",
       "   Native_Country_Yugoslavia  \n",
       "0                          0  \n",
       "1                          0  \n",
       "2                          0  \n",
       "3                          0  \n",
       "4                          0  \n",
       "\n",
       "[5 rows x 106 columns]"
      ]
     },
     "execution_count": 53,
     "metadata": {},
     "output_type": "execute_result"
    }
   ],
   "source": [
    "dummy_data.head()"
   ]
  },
  {
   "cell_type": "markdown",
   "id": "abb37522",
   "metadata": {},
   "source": [
    "#### LabelEncoder the target variable"
   ]
  },
  {
   "cell_type": "code",
   "execution_count": 54,
   "id": "747e5caa",
   "metadata": {},
   "outputs": [],
   "source": [
    "from sklearn.preprocessing import LabelEncoder"
   ]
  },
  {
   "cell_type": "code",
   "execution_count": 56,
   "id": "905ade63",
   "metadata": {},
   "outputs": [],
   "source": [
    "lb=LabelEncoder()\n",
    "dummy_data.Target=lb.fit_transform(dummy_data.Target)"
   ]
  },
  {
   "cell_type": "code",
   "execution_count": 57,
   "id": "a2715354",
   "metadata": {},
   "outputs": [
    {
     "data": {
      "text/html": [
       "<div>\n",
       "<style scoped>\n",
       "    .dataframe tbody tr th:only-of-type {\n",
       "        vertical-align: middle;\n",
       "    }\n",
       "\n",
       "    .dataframe tbody tr th {\n",
       "        vertical-align: top;\n",
       "    }\n",
       "\n",
       "    .dataframe thead th {\n",
       "        text-align: right;\n",
       "    }\n",
       "</style>\n",
       "<table border=\"1\" class=\"dataframe\">\n",
       "  <thead>\n",
       "    <tr style=\"text-align: right;\">\n",
       "      <th></th>\n",
       "      <th>Age</th>\n",
       "      <th>Fnlugt</th>\n",
       "      <th>Education</th>\n",
       "      <th>Capital_gain</th>\n",
       "      <th>Capital_loss</th>\n",
       "      <th>HPW</th>\n",
       "      <th>Target</th>\n",
       "      <th>Workaclass_Federal-gov</th>\n",
       "      <th>Workaclass_Local-gov</th>\n",
       "      <th>Workaclass_Never-worked</th>\n",
       "      <th>...</th>\n",
       "      <th>Native_Country_Portugal</th>\n",
       "      <th>Native_Country_Puerto-Rico</th>\n",
       "      <th>Native_Country_Scotland</th>\n",
       "      <th>Native_Country_South</th>\n",
       "      <th>Native_Country_Taiwan</th>\n",
       "      <th>Native_Country_Thailand</th>\n",
       "      <th>Native_Country_Trinadad&amp;Tobago</th>\n",
       "      <th>Native_Country_United-States</th>\n",
       "      <th>Native_Country_Vietnam</th>\n",
       "      <th>Native_Country_Yugoslavia</th>\n",
       "    </tr>\n",
       "  </thead>\n",
       "  <tbody>\n",
       "    <tr>\n",
       "      <th>0</th>\n",
       "      <td>8</td>\n",
       "      <td>0.0</td>\n",
       "      <td>1</td>\n",
       "      <td>0.0</td>\n",
       "      <td>0.0</td>\n",
       "      <td>39</td>\n",
       "      <td>0</td>\n",
       "      <td>0</td>\n",
       "      <td>0</td>\n",
       "      <td>0</td>\n",
       "      <td>...</td>\n",
       "      <td>0</td>\n",
       "      <td>0</td>\n",
       "      <td>0</td>\n",
       "      <td>0</td>\n",
       "      <td>0</td>\n",
       "      <td>0</td>\n",
       "      <td>0</td>\n",
       "      <td>1</td>\n",
       "      <td>0</td>\n",
       "      <td>0</td>\n",
       "    </tr>\n",
       "    <tr>\n",
       "      <th>1</th>\n",
       "      <td>21</td>\n",
       "      <td>0.0</td>\n",
       "      <td>11</td>\n",
       "      <td>0.0</td>\n",
       "      <td>0.0</td>\n",
       "      <td>49</td>\n",
       "      <td>0</td>\n",
       "      <td>0</td>\n",
       "      <td>0</td>\n",
       "      <td>0</td>\n",
       "      <td>...</td>\n",
       "      <td>0</td>\n",
       "      <td>0</td>\n",
       "      <td>0</td>\n",
       "      <td>0</td>\n",
       "      <td>0</td>\n",
       "      <td>0</td>\n",
       "      <td>0</td>\n",
       "      <td>1</td>\n",
       "      <td>0</td>\n",
       "      <td>0</td>\n",
       "    </tr>\n",
       "    <tr>\n",
       "      <th>2</th>\n",
       "      <td>11</td>\n",
       "      <td>0.0</td>\n",
       "      <td>7</td>\n",
       "      <td>0.0</td>\n",
       "      <td>0.0</td>\n",
       "      <td>39</td>\n",
       "      <td>1</td>\n",
       "      <td>0</td>\n",
       "      <td>1</td>\n",
       "      <td>0</td>\n",
       "      <td>...</td>\n",
       "      <td>0</td>\n",
       "      <td>0</td>\n",
       "      <td>0</td>\n",
       "      <td>0</td>\n",
       "      <td>0</td>\n",
       "      <td>0</td>\n",
       "      <td>0</td>\n",
       "      <td>1</td>\n",
       "      <td>0</td>\n",
       "      <td>0</td>\n",
       "    </tr>\n",
       "    <tr>\n",
       "      <th>3</th>\n",
       "      <td>27</td>\n",
       "      <td>0.0</td>\n",
       "      <td>15</td>\n",
       "      <td>0.0</td>\n",
       "      <td>0.0</td>\n",
       "      <td>39</td>\n",
       "      <td>1</td>\n",
       "      <td>0</td>\n",
       "      <td>0</td>\n",
       "      <td>0</td>\n",
       "      <td>...</td>\n",
       "      <td>0</td>\n",
       "      <td>0</td>\n",
       "      <td>0</td>\n",
       "      <td>0</td>\n",
       "      <td>0</td>\n",
       "      <td>0</td>\n",
       "      <td>0</td>\n",
       "      <td>1</td>\n",
       "      <td>0</td>\n",
       "      <td>0</td>\n",
       "    </tr>\n",
       "    <tr>\n",
       "      <th>4</th>\n",
       "      <td>1</td>\n",
       "      <td>0.0</td>\n",
       "      <td>15</td>\n",
       "      <td>0.0</td>\n",
       "      <td>0.0</td>\n",
       "      <td>29</td>\n",
       "      <td>0</td>\n",
       "      <td>0</td>\n",
       "      <td>0</td>\n",
       "      <td>0</td>\n",
       "      <td>...</td>\n",
       "      <td>0</td>\n",
       "      <td>0</td>\n",
       "      <td>0</td>\n",
       "      <td>0</td>\n",
       "      <td>0</td>\n",
       "      <td>0</td>\n",
       "      <td>0</td>\n",
       "      <td>1</td>\n",
       "      <td>0</td>\n",
       "      <td>0</td>\n",
       "    </tr>\n",
       "  </tbody>\n",
       "</table>\n",
       "<p>5 rows × 106 columns</p>\n",
       "</div>"
      ],
      "text/plain": [
       "   Age  Fnlugt  Education  Capital_gain  Capital_loss  HPW  Target  \\\n",
       "0    8     0.0          1           0.0           0.0   39       0   \n",
       "1   21     0.0         11           0.0           0.0   49       0   \n",
       "2   11     0.0          7           0.0           0.0   39       1   \n",
       "3   27     0.0         15           0.0           0.0   39       1   \n",
       "4    1     0.0         15           0.0           0.0   29       0   \n",
       "\n",
       "   Workaclass_Federal-gov  Workaclass_Local-gov  Workaclass_Never-worked  ...  \\\n",
       "0                       0                     0                        0  ...   \n",
       "1                       0                     0                        0  ...   \n",
       "2                       0                     1                        0  ...   \n",
       "3                       0                     0                        0  ...   \n",
       "4                       0                     0                        0  ...   \n",
       "\n",
       "   Native_Country_Portugal  Native_Country_Puerto-Rico  \\\n",
       "0                        0                           0   \n",
       "1                        0                           0   \n",
       "2                        0                           0   \n",
       "3                        0                           0   \n",
       "4                        0                           0   \n",
       "\n",
       "   Native_Country_Scotland  Native_Country_South  Native_Country_Taiwan  \\\n",
       "0                        0                     0                      0   \n",
       "1                        0                     0                      0   \n",
       "2                        0                     0                      0   \n",
       "3                        0                     0                      0   \n",
       "4                        0                     0                      0   \n",
       "\n",
       "   Native_Country_Thailand  Native_Country_Trinadad&Tobago  \\\n",
       "0                        0                               0   \n",
       "1                        0                               0   \n",
       "2                        0                               0   \n",
       "3                        0                               0   \n",
       "4                        0                               0   \n",
       "\n",
       "   Native_Country_United-States  Native_Country_Vietnam  \\\n",
       "0                             1                       0   \n",
       "1                             1                       0   \n",
       "2                             1                       0   \n",
       "3                             1                       0   \n",
       "4                             1                       0   \n",
       "\n",
       "   Native_Country_Yugoslavia  \n",
       "0                          0  \n",
       "1                          0  \n",
       "2                          0  \n",
       "3                          0  \n",
       "4                          0  \n",
       "\n",
       "[5 rows x 106 columns]"
      ]
     },
     "execution_count": 57,
     "metadata": {},
     "output_type": "execute_result"
    }
   ],
   "source": [
    "dummy_data.head()"
   ]
  },
  {
   "cell_type": "markdown",
   "id": "833439a4",
   "metadata": {},
   "source": [
    "####  * Label Data"
   ]
  },
  {
   "cell_type": "code",
   "execution_count": 58,
   "id": "31f22422",
   "metadata": {},
   "outputs": [],
   "source": [
    "def lb_encode(x):\n",
    "    lb=LabelEncoder()\n",
    "    return lb.fit_transform(x)"
   ]
  },
  {
   "cell_type": "code",
   "execution_count": 59,
   "id": "b7ad4522",
   "metadata": {},
   "outputs": [],
   "source": [
    "label_data=label_data.apply(lb_encode)"
   ]
  },
  {
   "cell_type": "code",
   "execution_count": 60,
   "id": "1314b1e7",
   "metadata": {},
   "outputs": [
    {
     "data": {
      "text/html": [
       "<div>\n",
       "<style scoped>\n",
       "    .dataframe tbody tr th:only-of-type {\n",
       "        vertical-align: middle;\n",
       "    }\n",
       "\n",
       "    .dataframe tbody tr th {\n",
       "        vertical-align: top;\n",
       "    }\n",
       "\n",
       "    .dataframe thead th {\n",
       "        text-align: right;\n",
       "    }\n",
       "</style>\n",
       "<table border=\"1\" class=\"dataframe\">\n",
       "  <thead>\n",
       "    <tr style=\"text-align: right;\">\n",
       "      <th></th>\n",
       "      <th>Age</th>\n",
       "      <th>Workaclass</th>\n",
       "      <th>Fnlugt</th>\n",
       "      <th>Education</th>\n",
       "      <th>Edu_num</th>\n",
       "      <th>Marital_Status</th>\n",
       "      <th>Occupation</th>\n",
       "      <th>Relationship</th>\n",
       "      <th>Race</th>\n",
       "      <th>Sex</th>\n",
       "      <th>Capital_gain</th>\n",
       "      <th>Capital_loss</th>\n",
       "      <th>HPW</th>\n",
       "      <th>Native_Country</th>\n",
       "      <th>Target</th>\n",
       "    </tr>\n",
       "  </thead>\n",
       "  <tbody>\n",
       "    <tr>\n",
       "      <th>0</th>\n",
       "      <td>8</td>\n",
       "      <td>3</td>\n",
       "      <td>19329</td>\n",
       "      <td>1</td>\n",
       "      <td>6</td>\n",
       "      <td>4</td>\n",
       "      <td>6</td>\n",
       "      <td>3</td>\n",
       "      <td>2</td>\n",
       "      <td>1</td>\n",
       "      <td>0</td>\n",
       "      <td>0</td>\n",
       "      <td>39</td>\n",
       "      <td>38</td>\n",
       "      <td>0</td>\n",
       "    </tr>\n",
       "    <tr>\n",
       "      <th>1</th>\n",
       "      <td>21</td>\n",
       "      <td>3</td>\n",
       "      <td>4212</td>\n",
       "      <td>11</td>\n",
       "      <td>8</td>\n",
       "      <td>2</td>\n",
       "      <td>4</td>\n",
       "      <td>0</td>\n",
       "      <td>4</td>\n",
       "      <td>1</td>\n",
       "      <td>0</td>\n",
       "      <td>0</td>\n",
       "      <td>49</td>\n",
       "      <td>38</td>\n",
       "      <td>0</td>\n",
       "    </tr>\n",
       "    <tr>\n",
       "      <th>2</th>\n",
       "      <td>11</td>\n",
       "      <td>1</td>\n",
       "      <td>25340</td>\n",
       "      <td>7</td>\n",
       "      <td>11</td>\n",
       "      <td>2</td>\n",
       "      <td>10</td>\n",
       "      <td>0</td>\n",
       "      <td>4</td>\n",
       "      <td>1</td>\n",
       "      <td>0</td>\n",
       "      <td>0</td>\n",
       "      <td>39</td>\n",
       "      <td>38</td>\n",
       "      <td>1</td>\n",
       "    </tr>\n",
       "    <tr>\n",
       "      <th>3</th>\n",
       "      <td>27</td>\n",
       "      <td>3</td>\n",
       "      <td>11201</td>\n",
       "      <td>15</td>\n",
       "      <td>9</td>\n",
       "      <td>2</td>\n",
       "      <td>6</td>\n",
       "      <td>0</td>\n",
       "      <td>2</td>\n",
       "      <td>1</td>\n",
       "      <td>98</td>\n",
       "      <td>0</td>\n",
       "      <td>39</td>\n",
       "      <td>38</td>\n",
       "      <td>1</td>\n",
       "    </tr>\n",
       "    <tr>\n",
       "      <th>4</th>\n",
       "      <td>1</td>\n",
       "      <td>3</td>\n",
       "      <td>5411</td>\n",
       "      <td>15</td>\n",
       "      <td>9</td>\n",
       "      <td>4</td>\n",
       "      <td>9</td>\n",
       "      <td>3</td>\n",
       "      <td>4</td>\n",
       "      <td>0</td>\n",
       "      <td>0</td>\n",
       "      <td>0</td>\n",
       "      <td>29</td>\n",
       "      <td>38</td>\n",
       "      <td>0</td>\n",
       "    </tr>\n",
       "  </tbody>\n",
       "</table>\n",
       "</div>"
      ],
      "text/plain": [
       "   Age  Workaclass  Fnlugt  Education  Edu_num  Marital_Status  Occupation  \\\n",
       "0    8           3   19329          1        6               4           6   \n",
       "1   21           3    4212         11        8               2           4   \n",
       "2   11           1   25340          7       11               2          10   \n",
       "3   27           3   11201         15        9               2           6   \n",
       "4    1           3    5411         15        9               4           9   \n",
       "\n",
       "   Relationship  Race  Sex  Capital_gain  Capital_loss  HPW  Native_Country  \\\n",
       "0             3     2    1             0             0   39              38   \n",
       "1             0     4    1             0             0   49              38   \n",
       "2             0     4    1             0             0   39              38   \n",
       "3             0     2    1            98             0   39              38   \n",
       "4             3     4    0             0             0   29              38   \n",
       "\n",
       "   Target  \n",
       "0       0  \n",
       "1       0  \n",
       "2       1  \n",
       "3       1  \n",
       "4       0  "
      ]
     },
     "execution_count": 60,
     "metadata": {},
     "output_type": "execute_result"
    }
   ],
   "source": [
    "label_data.head()"
   ]
  },
  {
   "cell_type": "markdown",
   "id": "3efd1b0f",
   "metadata": {},
   "source": [
    "### Question-4: Split both the datasets into training and testing set and apply Gaussian Nalve Bayes."
   ]
  },
  {
   "cell_type": "code",
   "execution_count": 62,
   "id": "28a7f50e",
   "metadata": {},
   "outputs": [],
   "source": [
    "from sklearn.naive_bayes import GaussianNB\n",
    "from sklearn.model_selection import train_test_split"
   ]
  },
  {
   "cell_type": "markdown",
   "id": "a4ae6750",
   "metadata": {},
   "source": [
    "#### Dummy Data"
   ]
  },
  {
   "cell_type": "code",
   "execution_count": 64,
   "id": "0363278a",
   "metadata": {},
   "outputs": [],
   "source": [
    "X=dummy_data.drop('Target', axis=1)\n",
    "y=dummy_data.Target\n",
    "X_drain, X_dest, y_drain, y_dest= train_test_split(X, y, train_size=0.7, test_size=0.3, random_state=101)"
   ]
  },
  {
   "cell_type": "code",
   "execution_count": 65,
   "id": "b14dc6ed",
   "metadata": {},
   "outputs": [
    {
     "data": {
      "text/plain": [
       "GaussianNB()"
      ]
     },
     "execution_count": 65,
     "metadata": {},
     "output_type": "execute_result"
    }
   ],
   "source": [
    "dummy_gnb=GaussianNB() \n",
    "dummy_gnb.fit(X_drain,y_drain)"
   ]
  },
  {
   "cell_type": "code",
   "execution_count": 66,
   "id": "cde57351",
   "metadata": {},
   "outputs": [],
   "source": [
    "dummy_pred=dummy_gnb.predict(X_dest)"
   ]
  },
  {
   "cell_type": "markdown",
   "id": "8eac6bdd",
   "metadata": {},
   "source": [
    "#### Label Data"
   ]
  },
  {
   "cell_type": "code",
   "execution_count": 67,
   "id": "6f798f3e",
   "metadata": {},
   "outputs": [],
   "source": [
    "lX=label_data.drop('Target', axis=1) \n",
    "ly=label_data.Target\n",
    "\n",
    "X_train, X_test, y_train, y_test = train_test_split(lX, ly, train_size=0.7, test_size=0.3, random_state=101)"
   ]
  },
  {
   "cell_type": "code",
   "execution_count": 68,
   "id": "bca853e6",
   "metadata": {},
   "outputs": [
    {
     "data": {
      "text/plain": [
       "GaussianNB()"
      ]
     },
     "execution_count": 68,
     "metadata": {},
     "output_type": "execute_result"
    }
   ],
   "source": [
    "label_gnb=GaussianNB() \n",
    "label_gnb.fit(X_train,y_train)"
   ]
  },
  {
   "cell_type": "code",
   "execution_count": 69,
   "id": "b06228d9",
   "metadata": {},
   "outputs": [],
   "source": [
    "label_pred=label_gnb.predict(X_test)"
   ]
  },
  {
   "cell_type": "markdown",
   "id": "3f137cf4",
   "metadata": {},
   "source": [
    "### Question-5: Evaluate both the model using confusion matrix."
   ]
  },
  {
   "cell_type": "code",
   "execution_count": 70,
   "id": "af104c9d",
   "metadata": {},
   "outputs": [],
   "source": [
    "from sklearn.metrics import accuracy_score, confusion_matrix, precision_score, recall_score \n",
    "from sklearn.metrics import classification_report, f1_score \n",
    "import matplotlib.pyplot as plt \n",
    "import seaborn as sns"
   ]
  },
  {
   "cell_type": "code",
   "execution_count": 72,
   "id": "21f6b28c",
   "metadata": {},
   "outputs": [
    {
     "name": "stdout",
     "output_type": "stream",
     "text": [
      "The accuracy of the Gaussian dummy model is: 61.52\n",
      "The accuracy of the Gaussian label model is: 81.61\n"
     ]
    }
   ],
   "source": [
    "print('The accuracy of the Gaussian dummy model is:', round(accuracy_score(y_dest, dummy_pred)*100,2))\n",
    "print('The accuracy of the Gaussian label model is:', round(accuracy_score(y_test, label_pred)*100,2))"
   ]
  },
  {
   "cell_type": "code",
   "execution_count": 73,
   "id": "24c690fa",
   "metadata": {},
   "outputs": [
    {
     "data": {
      "image/png": "[encoded data removed]",
      "text/plain": [
       "<Figure size 576x360 with 2 Axes>"
      ]
     },
     "metadata": {
      "needs_background": "light"
     },
     "output_type": "display_data"
    }
   ],
   "source": [
    "dcm=confusion_matrix(y_dest, dummy_pred)\n",
    "dconf_matrix=pd.DataFrame(data=dcm, columns=['Predicted:0', 'Predicted:1'], index=['Actual:0', 'Actual:1']) \n",
    "plt.figure(figsize=(8,5)) \n",
    "sns.heatmap(dconf_matrix, annot=True, fmt='d',cmap='Blues') \n",
    "fm={'size':18, 'color': '#88478d', 'weight': 'bold'}\n",
    "plt.title('Gaussian Dummy Model', **fm)\n",
    "plt.show()"
   ]
  },
  {
   "cell_type": "code",
   "execution_count": 75,
   "id": "da0fea0f",
   "metadata": {},
   "outputs": [
    {
     "name": "stdout",
     "output_type": "stream",
     "text": [
      "True Negative 5797\n",
      "True Positive 3218\n",
      "False Negative 313\n",
      "False Positive 5325\n",
      "Sensitivity 0.9113565562163694\n",
      "Specificity 0.5212192051789246\n"
     ]
    }
   ],
   "source": [
    "TN=dcm[0,0]\n",
    "TP=dcm[1, 1]\n",
    "FN=dcm[1, 0]\n",
    "FP=dcm[0, 1]\n",
    "sensitivity=TP/float(TP+FN)\n",
    "specificity=TN/float(TN+FP)\n",
    "print(\"True Negative\", TN)\n",
    "print(\"True Positive\", TP) \n",
    "print(\"False Negative\", FN)\n",
    "print(\"False Positive\", FP)\n",
    "print(\"Sensitivity\", sensitivity)\n",
    "print(\"Specificity\", specificity)"
   ]
  },
  {
   "cell_type": "markdown",
   "id": "90181bd2",
   "metadata": {},
   "source": [
    "The model is more sensitive than specific means it predicts target >50K more accurately.\n",
    "\n",
    "\n",
    "• Precision:  Ability of model to distinguish between negative and positive labels.\n",
    "\n",
    "• Rocall: Ability of model to find all positive samples.\n",
    "\n",
    "• F1 Score: Weighted harmonic mean of the precision and recall."
   ]
  },
  {
   "cell_type": "code",
   "execution_count": 82,
   "id": "3ca62634",
   "metadata": {},
   "outputs": [],
   "source": [
    "# Let's see precision and recall values \n",
    "#Initializae the evaluation dictionary \n",
    "def initialize_evaluator():\n",
    "    return {'Model':[], 'Accuracy': [], 'Precision': [], 'Recall' : [], 'F1_score':[]}\n",
    "\n",
    "#Insert data in evaluation dictionary\n",
    "def insert_data(test, pred,model):\n",
    "    eval_data=initialize_evaluator()\n",
    "    eval_data['Accuracy'].append(accuracy_score(test, pred)) \n",
    "    eval_data['Precision'].append(precision_score (test, pred))\n",
    "    eval_data['Model'].append(model)\n",
    "    eval_data['Recall'].append(recall_score (test, pred)) \n",
    "    eval_data['F1_score'].append(f1_score(test, pred)) \n",
    "    return eval_data\n",
    "\n",
    "#Append data of one dictionary to another\n",
    "def append_data(data1, data2): \n",
    "    for i in data1.keys(): \n",
    "        data2[i].extend(data1[i]) \n",
    "    return data2\n",
    "\n",
    "dummy_eval_data=insert_data(y_test, dummy_pred, \"Gaussian Dummy Model\")"
   ]
  },
  {
   "cell_type": "code",
   "execution_count": 83,
   "id": "dfc590e9",
   "metadata": {},
   "outputs": [
    {
     "data": {
      "text/html": [
       "<div>\n",
       "<style scoped>\n",
       "    .dataframe tbody tr th:only-of-type {\n",
       "        vertical-align: middle;\n",
       "    }\n",
       "\n",
       "    .dataframe tbody tr th {\n",
       "        vertical-align: top;\n",
       "    }\n",
       "\n",
       "    .dataframe thead th {\n",
       "        text-align: right;\n",
       "    }\n",
       "</style>\n",
       "<table border=\"1\" class=\"dataframe\">\n",
       "  <thead>\n",
       "    <tr style=\"text-align: right;\">\n",
       "      <th></th>\n",
       "      <th>Model</th>\n",
       "      <th>Accuracy</th>\n",
       "      <th>Precision</th>\n",
       "      <th>Recall</th>\n",
       "      <th>F1_score</th>\n",
       "    </tr>\n",
       "  </thead>\n",
       "  <tbody>\n",
       "    <tr>\n",
       "      <th>0</th>\n",
       "      <td>Gaussian Dummy Model</td>\n",
       "      <td>0.615232</td>\n",
       "      <td>0.376683</td>\n",
       "      <td>0.911357</td>\n",
       "      <td>0.533046</td>\n",
       "    </tr>\n",
       "  </tbody>\n",
       "</table>\n",
       "</div>"
      ],
      "text/plain": [
       "                  Model  Accuracy  Precision    Recall  F1_score\n",
       "0  Gaussian Dummy Model  0.615232   0.376683  0.911357  0.533046"
      ]
     },
     "execution_count": 83,
     "metadata": {},
     "output_type": "execute_result"
    }
   ],
   "source": [
    "pd.DataFrame(dummy_eval_data)"
   ]
  },
  {
   "cell_type": "markdown",
   "id": "e1ac991d",
   "metadata": {},
   "source": [
    "From above we can say that our model is able to correctly classify around 91% guests with>=50K."
   ]
  },
  {
   "cell_type": "code",
   "execution_count": 84,
   "id": "de148fe0",
   "metadata": {},
   "outputs": [
    {
     "name": "stdout",
     "output_type": "stream",
     "text": [
      "              precision    recall  f1-score   support\n",
      "\n",
      "           0       0.95      0.52      0.67     11122\n",
      "           1       0.38      0.91      0.53      3531\n",
      "\n",
      "    accuracy                           0.62     14653\n",
      "   macro avg       0.66      0.72      0.60     14653\n",
      "weighted avg       0.81      0.62      0.64     14653\n",
      "\n"
     ]
    }
   ],
   "source": [
    "# Let's check the classification report of the model\n",
    "print(classification_report(y_test,dummy_pred))"
   ]
  },
  {
   "cell_type": "code",
   "execution_count": 87,
   "id": "16552504",
   "metadata": {},
   "outputs": [
    {
     "data": {
      "image/png": "[encoded data removed]",
      "text/plain": [
       "<Figure size 576x360 with 2 Axes>"
      ]
     },
     "metadata": {
      "needs_background": "light"
     },
     "output_type": "display_data"
    }
   ],
   "source": [
    "lcm=confusion_matrix(y_test, label_pred)\n",
    "lconf_matrix=pd.DataFrame(data=lcm, columns=['Predicted:0', 'Predicted:1'], index=['Actual:0', 'Actual:1']) \n",
    "plt.figure(figsize = (8,5)) \n",
    "sns.heatmap(lconf_matrix, annot=True, fmt='d',cmap='Greens') \n",
    "fm={'size' :18, 'color': '#1f8742', 'weight': 'bold'} \n",
    "plt.title('Gaussian Label Model', **fm) \n",
    "plt.show()"
   ]
  },
  {
   "cell_type": "code",
   "execution_count": 88,
   "id": "8baa4591",
   "metadata": {},
   "outputs": [
    {
     "name": "stdout",
     "output_type": "stream",
     "text": [
      "True Negative 10372\n",
      "True Positive 1587\n",
      "False Negative 1944\n",
      "False Positive 750\n",
      "Sensitivity 0.4494477485131691\n",
      "Specificity 0.9325660852364682\n"
     ]
    }
   ],
   "source": [
    "TN=lcm[0,0]\n",
    "TP=lcm[1, 1]\n",
    "FN=lcm[1, 0]\n",
    "FP=lcm[0, 1]\n",
    "sensitivity=TP/float(TP+FN)\n",
    "specificity=TN/float(TN+FP)\n",
    "print(\"True Negative\", TN)\n",
    "print(\"True Positive\", TP) \n",
    "print(\"False Negative\", FN)\n",
    "print(\"False Positive\", FP)\n",
    "print(\"Sensitivity\", sensitivity)\n",
    "print(\"Specificity\", specificity)"
   ]
  },
  {
   "cell_type": "markdown",
   "id": "4f2baeeb",
   "metadata": {},
   "source": [
    "The model is more specific than sensitive means it predicts target <50K more accurately."
   ]
  },
  {
   "cell_type": "code",
   "execution_count": 90,
   "id": "7e738951",
   "metadata": {},
   "outputs": [
    {
     "data": {
      "text/html": [
       "<div>\n",
       "<style scoped>\n",
       "    .dataframe tbody tr th:only-of-type {\n",
       "        vertical-align: middle;\n",
       "    }\n",
       "\n",
       "    .dataframe tbody tr th {\n",
       "        vertical-align: top;\n",
       "    }\n",
       "\n",
       "    .dataframe thead th {\n",
       "        text-align: right;\n",
       "    }\n",
       "</style>\n",
       "<table border=\"1\" class=\"dataframe\">\n",
       "  <thead>\n",
       "    <tr style=\"text-align: right;\">\n",
       "      <th></th>\n",
       "      <th>Model</th>\n",
       "      <th>Accuracy</th>\n",
       "      <th>Precision</th>\n",
       "      <th>Recall</th>\n",
       "      <th>F1_score</th>\n",
       "    </tr>\n",
       "  </thead>\n",
       "  <tbody>\n",
       "    <tr>\n",
       "      <th>0</th>\n",
       "      <td>Gaussian Label Model</td>\n",
       "      <td>0.816147</td>\n",
       "      <td>0.679076</td>\n",
       "      <td>0.449448</td>\n",
       "      <td>0.5409</td>\n",
       "    </tr>\n",
       "  </tbody>\n",
       "</table>\n",
       "</div>"
      ],
      "text/plain": [
       "                  Model  Accuracy  Precision    Recall  F1_score\n",
       "0  Gaussian Label Model  0.816147   0.679076  0.449448    0.5409"
      ]
     },
     "execution_count": 90,
     "metadata": {},
     "output_type": "execute_result"
    }
   ],
   "source": [
    "label_eval_data=insert_data(y_test, label_pred, 'Gaussian Label Model')\n",
    "pd.DataFrame(label_eval_data)"
   ]
  },
  {
   "cell_type": "markdown",
   "id": "24e337b3",
   "metadata": {},
   "source": [
    "While label model is only able to classify around 44.95% of guests >50K."
   ]
  },
  {
   "cell_type": "code",
   "execution_count": 91,
   "id": "0ae29e75",
   "metadata": {},
   "outputs": [
    {
     "name": "stdout",
     "output_type": "stream",
     "text": [
      "              precision    recall  f1-score   support\n",
      "\n",
      "           0       0.84      0.93      0.89     11122\n",
      "           1       0.68      0.45      0.54      3531\n",
      "\n",
      "    accuracy                           0.82     14653\n",
      "   macro avg       0.76      0.69      0.71     14653\n",
      "weighted avg       0.80      0.82      0.80     14653\n",
      "\n"
     ]
    }
   ],
   "source": [
    "#Let's Check the classification report of the model \n",
    "print(classification_report (y_test, label_pred))"
   ]
  },
  {
   "cell_type": "code",
   "execution_count": 92,
   "id": "252e6e1f",
   "metadata": {},
   "outputs": [],
   "source": [
    "eval_data=append_data(label_eval_data, dummy_eval_data)"
   ]
  },
  {
   "cell_type": "markdown",
   "id": "dda4943f",
   "metadata": {},
   "source": [
    "### Question-6: Apply Bernoulli Naive Bayes on both the datasets and evaluate them again."
   ]
  },
  {
   "cell_type": "code",
   "execution_count": 93,
   "id": "bfee1ea7",
   "metadata": {},
   "outputs": [],
   "source": [
    "from sklearn.naive_bayes import BernoulliNB"
   ]
  },
  {
   "cell_type": "markdown",
   "id": "56ad08b0",
   "metadata": {},
   "source": [
    "#### Dummy Data"
   ]
  },
  {
   "cell_type": "code",
   "execution_count": 94,
   "id": "682b0d08",
   "metadata": {},
   "outputs": [
    {
     "data": {
      "text/plain": [
       "BernoulliNB(alpha=2)"
      ]
     },
     "execution_count": 94,
     "metadata": {},
     "output_type": "execute_result"
    }
   ],
   "source": [
    "dummy_gnb=BernoulliNB(alpha=2) \n",
    "dummy_gnb.fit(X_drain,y_drain)"
   ]
  },
  {
   "cell_type": "code",
   "execution_count": 95,
   "id": "769d59a0",
   "metadata": {},
   "outputs": [],
   "source": [
    "dummy_pred=dummy_gnb.predict(X_dest)"
   ]
  },
  {
   "cell_type": "markdown",
   "id": "b0693c04",
   "metadata": {},
   "source": [
    "#### Label data"
   ]
  },
  {
   "cell_type": "code",
   "execution_count": 96,
   "id": "25bc9892",
   "metadata": {},
   "outputs": [
    {
     "data": {
      "text/plain": [
       "BernoulliNB(alpha=2)"
      ]
     },
     "execution_count": 96,
     "metadata": {},
     "output_type": "execute_result"
    }
   ],
   "source": [
    "label_gnb=BernoulliNB(alpha=2) \n",
    "label_gnb.fit(X_train,y_train)"
   ]
  },
  {
   "cell_type": "code",
   "execution_count": 97,
   "id": "41359304",
   "metadata": {},
   "outputs": [],
   "source": [
    "label_pred=label_gnb.predict(X_test)"
   ]
  },
  {
   "cell_type": "code",
   "execution_count": 98,
   "id": "cf2cdbaa",
   "metadata": {},
   "outputs": [
    {
     "name": "stdout",
     "output_type": "stream",
     "text": [
      "The accuracy of the Bernoulli dummy model is: 75.18\n",
      "The accuracy of the Bernoulli label model is: 73.41\n"
     ]
    }
   ],
   "source": [
    "print('The accuracy of the Bernoulli dummy model is:', round(accuracy_score(y_dest, dummy_pred)*100,2))\n",
    "print('The accuracy of the Bernoulli label model is:', round(accuracy_score(y_test, label_pred)*100,2))"
   ]
  },
  {
   "cell_type": "code",
   "execution_count": 99,
   "id": "6a66e2c3",
   "metadata": {},
   "outputs": [
    {
     "data": {
      "image/png": "[encoded data removed]",
      "text/plain": [
       "<Figure size 576x360 with 2 Axes>"
      ]
     },
     "metadata": {
      "needs_background": "light"
     },
     "output_type": "display_data"
    }
   ],
   "source": [
    "dcm=confusion_matrix(y_dest, dummy_pred)\n",
    "dconf_matrix=pd.DataFrame(data=dcm, columns=['Predicted:0', 'Predicted:1'], index=['Actual:0', 'Actual:1']) \n",
    "plt.figure(figsize=(8,5)) \n",
    "sns.heatmap(dconf_matrix, annot=True, fmt='d',cmap='Purples') \n",
    "fm={'size':18, 'color': '#694fa2', 'weight': 'bold'}\n",
    "plt.title('Bernoulli Label Model', **fm)\n",
    "plt.show()"
   ]
  },
  {
   "cell_type": "code",
   "execution_count": 100,
   "id": "f4c723a7",
   "metadata": {},
   "outputs": [
    {
     "name": "stdout",
     "output_type": "stream",
     "text": [
      "True Negative 8258\n",
      "True Positive 2758\n",
      "False Negative 773\n",
      "False Positive 2864\n",
      "Sensitivity 0.7810818465024072\n",
      "Specificity 0.7424923574896601\n"
     ]
    }
   ],
   "source": [
    "TN=dcm[0,0]\n",
    "TP=dcm[1, 1]\n",
    "FN=dcm[1, 0]\n",
    "FP=dcm[0, 1]\n",
    "sensitivity=TP/float(TP+FN)\n",
    "specificity=TN/float(TN+FP)\n",
    "print(\"True Negative\", TN)\n",
    "print(\"True Positive\", TP) \n",
    "print(\"False Negative\", FN)\n",
    "print(\"False Positive\", FP)\n",
    "print(\"Sensitivity\", sensitivity)\n",
    "print(\"Specificity\", specificity)"
   ]
  },
  {
   "cell_type": "code",
   "execution_count": 102,
   "id": "82bba613",
   "metadata": {},
   "outputs": [
    {
     "data": {
      "text/html": [
       "<div>\n",
       "<style scoped>\n",
       "    .dataframe tbody tr th:only-of-type {\n",
       "        vertical-align: middle;\n",
       "    }\n",
       "\n",
       "    .dataframe tbody tr th {\n",
       "        vertical-align: top;\n",
       "    }\n",
       "\n",
       "    .dataframe thead th {\n",
       "        text-align: right;\n",
       "    }\n",
       "</style>\n",
       "<table border=\"1\" class=\"dataframe\">\n",
       "  <thead>\n",
       "    <tr style=\"text-align: right;\">\n",
       "      <th></th>\n",
       "      <th>Model</th>\n",
       "      <th>Accuracy</th>\n",
       "      <th>Precision</th>\n",
       "      <th>Recall</th>\n",
       "      <th>F1_score</th>\n",
       "    </tr>\n",
       "  </thead>\n",
       "  <tbody>\n",
       "    <tr>\n",
       "      <th>0</th>\n",
       "      <td>Bernoulli Label Model</td>\n",
       "      <td>0.751791</td>\n",
       "      <td>0.490573</td>\n",
       "      <td>0.781082</td>\n",
       "      <td>0.602644</td>\n",
       "    </tr>\n",
       "  </tbody>\n",
       "</table>\n",
       "</div>"
      ],
      "text/plain": [
       "                   Model  Accuracy  Precision    Recall  F1_score\n",
       "0  Bernoulli Label Model  0.751791   0.490573  0.781082  0.602644"
      ]
     },
     "execution_count": 102,
     "metadata": {},
     "output_type": "execute_result"
    }
   ],
   "source": [
    "bern_dummy_eata=insert_data(y_test, dummy_pred, 'Bernoulli Label Model')\n",
    "pd.DataFrame(bern_dummy_eata)"
   ]
  },
  {
   "cell_type": "markdown",
   "id": "09e26e0b",
   "metadata": {},
   "source": [
    "The model is able to correctly classify 78% of positive data i.e. >=50K."
   ]
  },
  {
   "cell_type": "code",
   "execution_count": 103,
   "id": "d3bed62c",
   "metadata": {},
   "outputs": [
    {
     "name": "stdout",
     "output_type": "stream",
     "text": [
      "              precision    recall  f1-score   support\n",
      "\n",
      "           0       0.91      0.74      0.82     11122\n",
      "           1       0.49      0.78      0.60      3531\n",
      "\n",
      "    accuracy                           0.75     14653\n",
      "   macro avg       0.70      0.76      0.71     14653\n",
      "weighted avg       0.81      0.75      0.77     14653\n",
      "\n"
     ]
    }
   ],
   "source": [
    "print(classification_report(y_test, dummy_pred))"
   ]
  },
  {
   "cell_type": "code",
   "execution_count": 104,
   "id": "570f7e40",
   "metadata": {},
   "outputs": [],
   "source": [
    "eval_data=append_data(bern_dummy_eata,eval_data)"
   ]
  },
  {
   "cell_type": "markdown",
   "id": "6d4212f2",
   "metadata": {},
   "source": [
    "The model is highly specific than sensitive means it predicts target <50k more accurately."
   ]
  },
  {
   "cell_type": "code",
   "execution_count": 105,
   "id": "3be89cca",
   "metadata": {},
   "outputs": [],
   "source": [
    "def format_text(size,color,weight='normal'):\n",
    "    return{'size':size, 'color':'#'+color, 'weight':weight}"
   ]
  },
  {
   "cell_type": "code",
   "execution_count": 106,
   "id": "f39a6490",
   "metadata": {},
   "outputs": [
    {
     "data": {
      "image/png": "[encoded data removed]",
      "text/plain": [
       "<Figure size 576x360 with 2 Axes>"
      ]
     },
     "metadata": {
      "needs_background": "light"
     },
     "output_type": "display_data"
    }
   ],
   "source": [
    "lcm=confusion_matrix(y_test, label_pred)\n",
    "lconf_matrix=pd.DataFrame(data=lcm, columns=['Predicted:0', 'Predicted:1'], index=['Actual:0', 'Actual:1']) \n",
    "plt.figure(figsize=(8,5)) \n",
    "sns.heatmap(lconf_matrix, annot=True, fmt='d',cmap='Pastel1') \n",
    "fm={'size':18, 'color': '#fbb4ae', 'weight': 'bold'}\n",
    "plt.title('Bernoulli Label Model', **fm)\n",
    "plt.show()"
   ]
  },
  {
   "cell_type": "code",
   "execution_count": 107,
   "id": "0fbeb214",
   "metadata": {},
   "outputs": [
    {
     "name": "stdout",
     "output_type": "stream",
     "text": [
      "True Negative 8159\n",
      "True Positive 2598\n",
      "False Negative 933\n",
      "False Positive 2963\n",
      "Sensitivity 0.735768903993203\n",
      "Specificity 0.733591080740874\n"
     ]
    }
   ],
   "source": [
    "TN=lcm[0,0]\n",
    "TP=lcm[1, 1]\n",
    "FN=lcm[1, 0]\n",
    "FP=lcm[0, 1]\n",
    "sensitivity=TP/float(TP+FN)\n",
    "specificity=TN/float(TN+FP)\n",
    "print(\"True Negative\", TN)\n",
    "print(\"True Positive\", TP) \n",
    "print(\"False Negative\", FN)\n",
    "print(\"False Positive\", FP)\n",
    "print(\"Sensitivity\", sensitivity)\n",
    "print(\"Specificity\", specificity)"
   ]
  },
  {
   "cell_type": "markdown",
   "id": "ecc68abc",
   "metadata": {},
   "source": [
    "The model is both specific and sensitive"
   ]
  },
  {
   "cell_type": "code",
   "execution_count": 108,
   "id": "62322b1a",
   "metadata": {},
   "outputs": [
    {
     "data": {
      "text/html": [
       "<div>\n",
       "<style scoped>\n",
       "    .dataframe tbody tr th:only-of-type {\n",
       "        vertical-align: middle;\n",
       "    }\n",
       "\n",
       "    .dataframe tbody tr th {\n",
       "        vertical-align: top;\n",
       "    }\n",
       "\n",
       "    .dataframe thead th {\n",
       "        text-align: right;\n",
       "    }\n",
       "</style>\n",
       "<table border=\"1\" class=\"dataframe\">\n",
       "  <thead>\n",
       "    <tr style=\"text-align: right;\">\n",
       "      <th></th>\n",
       "      <th>Model</th>\n",
       "      <th>Accuracy</th>\n",
       "      <th>Precision</th>\n",
       "      <th>Recall</th>\n",
       "      <th>F1_score</th>\n",
       "    </tr>\n",
       "  </thead>\n",
       "  <tbody>\n",
       "    <tr>\n",
       "      <th>0</th>\n",
       "      <td>Bernoulli Label Model</td>\n",
       "      <td>0.734116</td>\n",
       "      <td>0.467182</td>\n",
       "      <td>0.735769</td>\n",
       "      <td>0.571491</td>\n",
       "    </tr>\n",
       "  </tbody>\n",
       "</table>\n",
       "</div>"
      ],
      "text/plain": [
       "                   Model  Accuracy  Precision    Recall  F1_score\n",
       "0  Bernoulli Label Model  0.734116   0.467182  0.735769  0.571491"
      ]
     },
     "execution_count": 108,
     "metadata": {},
     "output_type": "execute_result"
    }
   ],
   "source": [
    "bern_label_model=insert_data(y_test, label_pred, 'Bernoulli Label Model')\n",
    "pd.DataFrame(bern_label_model)"
   ]
  },
  {
   "cell_type": "code",
   "execution_count": 109,
   "id": "d566730e",
   "metadata": {},
   "outputs": [],
   "source": [
    "eval_data=append_data(bern_label_model,eval_data)"
   ]
  },
  {
   "cell_type": "code",
   "execution_count": 110,
   "id": "38c4ee6f",
   "metadata": {},
   "outputs": [
    {
     "data": {
      "text/html": [
       "<div>\n",
       "<style scoped>\n",
       "    .dataframe tbody tr th:only-of-type {\n",
       "        vertical-align: middle;\n",
       "    }\n",
       "\n",
       "    .dataframe tbody tr th {\n",
       "        vertical-align: top;\n",
       "    }\n",
       "\n",
       "    .dataframe thead th {\n",
       "        text-align: right;\n",
       "    }\n",
       "</style>\n",
       "<table border=\"1\" class=\"dataframe\">\n",
       "  <thead>\n",
       "    <tr style=\"text-align: right;\">\n",
       "      <th></th>\n",
       "      <th>Model</th>\n",
       "      <th>Accuracy</th>\n",
       "      <th>Precision</th>\n",
       "      <th>Recall</th>\n",
       "      <th>F1_score</th>\n",
       "    </tr>\n",
       "  </thead>\n",
       "  <tbody>\n",
       "    <tr>\n",
       "      <th>0</th>\n",
       "      <td>Gaussian Dummy Model</td>\n",
       "      <td>0.615232</td>\n",
       "      <td>0.376683</td>\n",
       "      <td>0.911357</td>\n",
       "      <td>0.533046</td>\n",
       "    </tr>\n",
       "    <tr>\n",
       "      <th>1</th>\n",
       "      <td>Gaussian Label Model</td>\n",
       "      <td>0.816147</td>\n",
       "      <td>0.679076</td>\n",
       "      <td>0.449448</td>\n",
       "      <td>0.540900</td>\n",
       "    </tr>\n",
       "    <tr>\n",
       "      <th>2</th>\n",
       "      <td>Bernoulli Label Model</td>\n",
       "      <td>0.751791</td>\n",
       "      <td>0.490573</td>\n",
       "      <td>0.781082</td>\n",
       "      <td>0.602644</td>\n",
       "    </tr>\n",
       "    <tr>\n",
       "      <th>3</th>\n",
       "      <td>Bernoulli Label Model</td>\n",
       "      <td>0.734116</td>\n",
       "      <td>0.467182</td>\n",
       "      <td>0.735769</td>\n",
       "      <td>0.571491</td>\n",
       "    </tr>\n",
       "  </tbody>\n",
       "</table>\n",
       "</div>"
      ],
      "text/plain": [
       "                   Model  Accuracy  Precision    Recall  F1_score\n",
       "0   Gaussian Dummy Model  0.615232   0.376683  0.911357  0.533046\n",
       "1   Gaussian Label Model  0.816147   0.679076  0.449448  0.540900\n",
       "2  Bernoulli Label Model  0.751791   0.490573  0.781082  0.602644\n",
       "3  Bernoulli Label Model  0.734116   0.467182  0.735769  0.571491"
      ]
     },
     "execution_count": 110,
     "metadata": {},
     "output_type": "execute_result"
    }
   ],
   "source": [
    "pd.DataFrame(eval_data)"
   ]
  },
  {
   "cell_type": "code",
   "execution_count": 122,
   "id": "909fb8fc",
   "metadata": {},
   "outputs": [],
   "source": [
    "from matplotlib.gridspec import GridSpec\n",
    "def plot_models(data):\n",
    "    sns.set_palette(sns.color_palette(\"rocket\")) \n",
    "    super_title={'size':18, 'color':'#c5283d','weight':'bold'}\n",
    "    sub_title={'size':12, 'color': '#e06777', 'weight':'bold'}\n",
    "    colors=np.array([[156, 137, 184], [239, 195, 238], [184, 190, 221],[231, 115, 171]]) \n",
    "    colors=colors/255 #Matplotlib RGB color range is from 0-1\n",
    "    data=pd.DataFrame(data)\n",
    "    fig=plt.figure(figsize=(10,7),constrained_layout=True)\n",
    "    gs=GridSpec(2, 2, figure=fig)\n",
    "    ax1 = fig.add_subplot(gs[0, 0])\n",
    "    ax1.barh(data.Model,data.Accuracy,color=colors) \n",
    "    ax1.tick_params(labelbottom=False, labelleft=True)\n",
    "    ax1.set_xlim(0,1)\n",
    "    ax1.set_title('Accuracy',**sub_title)\n",
    "    ax2 = fig.add_subplot(gs[0, 1])\n",
    "    ax2.barh(data.Model,data.Precision,color=colors) \n",
    "    ax2.tick_params(labelbottom=False, labelleft=False)\n",
    "    ax2.set_xlim(0,1)\n",
    "    ax2.set_title('Precision',**sub_title) \n",
    "    ax3 = fig.add_subplot(gs[1, 0])\n",
    "    ax3.barh(data.Model,data.Recall,color=colors)\n",
    "    ax3.tick_params(labelbottom=True, labelleft=True)\n",
    "    ax3.set_xlim(0,1)\n",
    "    ax3.set_title('Recall',**sub_title)\n",
    "    ax4 = fig.add_subplot(gs[1, 1])\n",
    "    ax4.barh(data.Model,data.F1_score,color=colors) \n",
    "    ax4.tick_params(labelbottom=False, labelleft=False)\n",
    "    ax4.set_xlim(0,1)\n",
    "    ax4.set_title('F1_Score',**sub_title)\n",
    "    fig.suptitle(\"Evaluation\",**super_title)\n",
    "    ax4.tick_params(labelbottom=True, labelleft=False)\n",
    "    plt.show()"
   ]
  },
  {
   "cell_type": "code",
   "execution_count": 123,
   "id": "1081a318",
   "metadata": {},
   "outputs": [
    {
     "data": {
      "image/png": "[encoded data removed]",
      "text/plain": [
       "<Figure size 720x504 with 4 Axes>"
      ]
     },
     "metadata": {
      "needs_background": "light"
     },
     "output_type": "display_data"
    }
   ],
   "source": [
    "plot_models(eval_data)"
   ]
  },
  {
   "cell_type": "markdown",
   "id": "e4bafc2d",
   "metadata": {},
   "source": [
    "From the above graphs, we can determine the best model. Overall, Gaussian Dummy Model has best recall but accuracy is pretty low as well as precision score. Even Gaussian Label Model has best accuracy but the truth is that the model is performing really bad as recall is worst. On an average sense, we can see that our Bernoulli Label model is performing well enough to be selected.\n",
    "\n",
    "###### Conclusion:\n",
    "Even though the dummy Bernoulli model produced better accuracy it would not appreciated if it used as it is highly specific. As Bernoulli label model has a good accuracy of 73.41%, it would best if this is used. As discussed in the module Gaussian Naive Bayes model is always best used when data is continous and normally distributed which is why dummy Gaussian naive bayes failed to produce better accuracy than label Gaussian model. Bemouli model is best used when we have independent features and have a binary outcome."
   ]
  },
  {
   "cell_type": "code",
   "execution_count": null,
   "id": "46f6ab1a",
   "metadata": {},
   "outputs": [],
   "source": []
  }
 ],
 "metadata": {
  "kernelspec": {
   "display_name": "Python 3 (ipykernel)",
   "language": "python",
   "name": "python3"
  },
  "language_info": {
   "codemirror_mode": {
    "name": "ipython",
    "version": 3
   },
   "file_extension": ".py",
   "mimetype": "text/x-python",
   "name": "python",
   "nbconvert_exporter": "python",
   "pygments_lexer": "ipython3",
   "version": "3.9.7"
  }
 },
 "nbformat": 4,
 "nbformat_minor": 5
}
